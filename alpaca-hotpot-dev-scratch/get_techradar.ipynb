{
 "cells": [
  {
   "cell_type": "code",
   "execution_count": 7,
   "metadata": {},
   "outputs": [],
   "source": [
    "import json\n",
    "with open(\"techradar_phone_reviews.json\",\"r\") as f:\n",
    "    techradar_phone_reviews = json.loads(f.read())\n"
   ]
  },
  {
   "cell_type": "code",
   "execution_count": 13,
   "metadata": {},
   "outputs": [],
   "source": [
    "\n",
    "def get_grades_by_name(target):\n",
    "    results = []\n",
    "    for i in techradar_phone_reviews.keys():\n",
    "        if target in i:\n",
    "            results.append(\"There is a review \"+i+\" gives\"+techradar_phone_reviews[i][\"rating\"]+\"indicates that \"+techradar_phone_reviews[i][\"summary_pros_cons\"])\n",
    "    return results\n",
    "\n",
    "def get_all_by_name(target):\n",
    "    results = []\n",
    "    for i in techradar_phone_reviews.keys():\n",
    "        if target in i:\n",
    "            results.append(\"There is a review {} that {} indicating {}, with details {}\".format(i,techradar_phone_reviews[i][\"rating\"],techradar_phone_reviews[i][\"summary_pros_cons\"],techradar_phone_reviews[i][\"review\"]))\n",
    "    return results\n"
   ]
  },
  {
   "cell_type": "code",
   "execution_count": 14,
   "metadata": {},
   "outputs": [
    {
     "data": {
      "text/plain": [
       "['There is a review Xiaomi 13 review: a sleek and sophisticated iPhone imitator: The Xiaomi 13 makes (almost) all the right moves givesRating: 4 out of 5 starsindicates that Boasting an exceptionally bright display, phenomenal performance and a handsome (albeit unoriginal) straight-edged design, the Xiaomi 13 is an impressive Android flagship that deserves a much wider market.\\n\\nPros\\n\\n+Smart-looking design+Impressively bright display+Speedy Snapdragon 8 Gen 2 processor\\n\\nCons\\n\\n-No US availability-Memory options vary by region\\n',\n",
       " \"There is a review Hands on: Xiaomi 13 Lite review – the Civi's new suit: A Civi by any other name... givesindicates that The Xiaomi 13 Lite certainly feels like the odd-one-out in the Xiaomi 13 series, and not only because it's a mid-ranger in what is otherwise a family of flagships. Despite packing older hardware and a borrowed design than its launch siblings, though, there are some subtle charms to this latest Lite.\\n\\nPros\\n\\n+Thin and lightweight design+Standout selfie camera setup+Fast 67W wired charging\\n\\nCons\\n\\n-Launches on the older Android 12-No IP rating or wireless charging\\n\",\n",
       " \"There is a review Hands on: Xiaomi 13 Pro review – a camera-led flagship for the world: Top-shelf performance and a huge Leica camera go global givesindicates that We already knew that the Xiaomi 13 Pro had a lot to offer – having launched in China late last year. Now that it's gone global, the new Pro looks primed to surpasses expectations, with impressive hardware and design, and a heap of technology. It's the first international example of Xiaomi's recent partnership with imaging specialists Leica, paired with a massive 1-inch main camera sensor. Oh, and don't forget about the Snapdragon chipset, brilliant display, fast charging battery, and so much more.\\n\\nPros\\n\\n+Most efficient chipset, RAM and storage available+High-grade camera experience with Leica tuning+Strong, confident design\\n\\nCons\\n\\n-Fewer storage and color options compared to Chinese model-Finish attracts fingerprints-Huge camera bump-Heavy\\n\",\n",
       " 'There is a review Xiaomi Poco X3 Pro review: The Xiaomi Poco X3 Pro is a budget gaming monster phone givesRating: 4 out of 5 starsindicates that The Xiaomi Poco X3 Pro is the best gaming phone you can get for the cash at the time of review, with impressive power and a sharp, smooth screen, but camera quality takes a hit in return.\\n\\nPros\\n\\n+Superb gaming performance+Long battery life+Impressive 120Hz screen\\n\\nCons\\n\\n-Relatively weak camera -No 5G-Large and heavy\\n',\n",
       " \"There is a review Hands on: Xiaomi 12s Ultra: Xiaomi's mightiest flagship marks a breakthrough in camera technology givesindicates that The Xiaomi 12s Ultra is a showcase piece that highlights just how far Xiaomi has come as a brand and a smartphone maker. Partnerships with Leica and Harmon Kardon, world-first camera tech, and excellent real-world results make the phone a mighty option. While it's no doubt frustrating that it isn't available in the West, it should ensure photography enthusiasts keep Xiaomi firmly in their sights going into 2023.\\n\\nPros\\n\\n+Best-in-class camera hardware+Premium styling and build+Quality 120Hz AMOLED display+Mighty performance\\n\\nCons\\n\\n-No Western release planned-A thick profile and heavy weight-Inconsistent quality across cameras-Pre-installed bloatware\\n\",\n",
       " 'There is a review Xiaomi Poco F3 review: The Poco F3 puts on an awesome display givesRating: 4 out of 5 starsindicates that With class-leading performance, an outstandingly bright and fluid display, and a tidy design, the Poco F3 might just have you renouncing flagships for the foreseeable future. Only a mediocre camera and the usual MIUI quibbles threaten to sour an outstanding deal.\\n\\nPros\\n\\n+Bright and responsive display+Great performance within its class+Solid, classy build\\n\\nCons\\n\\n-MIUI is full of annoyances-Mediocre camera-No wireless charging\\n',\n",
       " 'There is a review Xiaomi Poco X4 Pro 5G review: Not the Poco you know givesRating: 3 out of 5 starsindicates that The Xiaomi Poco X4 Pro doesn’t feel like a Poco phone but is a sound buy if you’re looking for a strong screen, battery life and speakers, and can live with its limited gaming power and inconsistent camera.\\n\\nPros\\n\\n+Vibrant OLED screen+Less bulky than its predecessors+Long battery life\\n\\nCons\\n\\n-Inconsistent camera; poor Auto HDR-Weak gaming performance for a Poco phone-Annoying charging and app-closing bugs\\n',\n",
       " \"There is a review Xiaomi Poco M4 Pro 5G review: An appealing budget phone with 5G givesRating: 4 out of 5 starsindicates that There's no doubt that the Xiaomi Poco M4 Pro 5G gives you an Android phone that's great value for money at the budget end of the market – but it perhaps cuts one too many corners for it to truly stand out in what is an increasingly competitive part of the market.\\n\\nPros\\n\\n+Very decent price+Strong design aesthetic+Ready for 5G\\n\\nCons\\n\\n-Not a huge upgrade-Average camera quality-Not the best Android skin\\n\",\n",
       " 'There is a review Xiaomi 12 review: Small body, high price givesRating: 4 out of 5 starsindicates that The Xiaomi 12 is an attractive flagship phone that’s a little rough around the edges. While its small form, attractive design and fast charging ensure it plays well in the big leagues, its cameras, display and software experience are only ‘okay’. Given that this is a high-price flagship phone, we had hoped for better.\\n\\nPros\\n\\n+Feels great in the hand+Charges quickly+Some fun camera modes\\n\\nCons\\n\\n-Gets hot when gaming-No zoom camera-Irritating software issues\\n',\n",
       " 'There is a review Xiaomi 11T Pro review: A decent mid-ranger with a better sibling givesRating: 4 out of 5 starsindicates that The Xiaomi 11T Pro comes at a very competitive price, with a camera array, chipset and charging speed that are impressive for a mid-range phone, and it would be easy to recommend if it wasn’t for a few minor issues. The device gets hot easily, is quite big, picks up fingerprints readily on the rear, has a few too many software bugs. It’s still a worthy addition to the Mi 11 lineup, though the standard 11T is more.\\n\\nPros\\n\\n+Smooth and responsive to use+Cameras perform well+Incredibly fast to charge\\n\\nCons\\n\\n-Rear is a fingerprint magnet-Fingerprint scanner is hard to reach-Overheating issues\\n',\n",
       " 'There is a review Xiaomi Redmi Note 10 5G review: The Xiaomi Redmi Note 10 5G is classy but compromised givesRating: 3 out of 5 starsindicates that The Xiaomi Redmi Note 10 5G is a classy-looking budget phone that provides 5G connectivity and excellent battery life at an incredibly low price. You’ll have to make some sacrifices when it comes to display and camera quality in order to reap those 5G benefits, however, and it’s not the fastest performer for the money.\\n\\nPros\\n\\n+Classy design+Excellent battery life+5G connectivity at a low price\\n\\nCons\\n\\n-No ultra-wide lens-Washed out 90Hz LCD-Underwhelming performance\\n',\n",
       " 'There is a review Xiaomi Black Shark 5 Pro review: Great for competitive gamers, but with a few rough edges givesRating: 4 out of 5 starsindicates that For gaming, the Xiaomi Black Shark 5 Pro is a champ. It has a top-end processor, useful gaming mode and retractable triggers that will deliver a huge edge in competitive games. However, its rough edges emerge when you try to use it as an everyday mobile. Battery life is disappointing, it overheats frequently, and the cameras are nothing to write home about either.\\n\\nPros\\n\\n+Useful retractable triggers+Charges quickly+Powerful processor\\n\\nCons\\n\\n-Lackluster battery life-Gets very hot-No headphone jack\\n',\n",
       " 'There is a review Xiaomi Redmi Note 10 Pro review: The Xiaomi Redmi Note 10 Pro is a top phone at a low price givesRating: 4 out of 5 starsindicates that The Xiaomi Redmi Note 10 Pro is one of the best Android bargains going, assuming you can live without 5G. You get a great screen, fast performance, long battery life and a solid camera for under $300 (£249 / around AU$360).\\n\\nPros\\n\\n+Excellent stereo speakers+Big and bold 120Hz OLED screen+Long battery life\\n\\nCons\\n\\n-No 5G-Lacks stabilization for 4K video-No telephoto camera\\n',\n",
       " \"There is a review Xiaomi Redmi Note 9S review: A new champion budget smartphone givesRating: 4 out of 5 starsindicates that The Redmi Note 9S offers one of the most reliable experiences on a phone at its super-low price point. Its battery life is unmatched, the performance is always consistent, and the large display is a joy to use. \\n\\nPros\\n\\n+Impressive battery life+Reliable performance+Big and vibrant display\\n\\nCons\\n\\n-'Only' 60Hz display-Relatively slow charging-Bulky build\\n\",\n",
       " 'There is a review Xiaomi Poco X3 NFC review: A lot of phone for not very much cash givesRating: 4 out of 5 starsindicates that Poco is back with another hot deal. The Poco X3 NFC comes with a few features you might expect of a pricier Android handset, such as decent gaming performance thanks to its Snapdragon G-series processor and a 120Hz screen, with excellent battery life sealing the deal. This is a great option for those on a budget.\\n\\nPros\\n\\n+Strong gaming performance+Excellent battery life+Great 120Hz wide color gamut screen\\n\\nCons\\n\\n-Struggling camera-Sometimes erratic backlight-It’s quite large, a little heavy\\n']"
      ]
     },
     "execution_count": 14,
     "metadata": {},
     "output_type": "execute_result"
    }
   ],
   "source": [
    "get_grades_by_name(\"Xiaomi\")"
   ]
  },
  {
   "cell_type": "code",
   "execution_count": 16,
   "metadata": {},
   "outputs": [
    {
     "data": {
      "text/plain": [
       "[\"There is a review Xiaomi 13 review: a sleek and sophisticated iPhone imitator: The Xiaomi 13 makes (almost) all the right moves that Rating: 4 out of 5 stars indicating Boasting an exceptionally bright display, phenomenal performance and a handsome (albeit unoriginal) straight-edged design, the Xiaomi 13 is an impressive Android flagship that deserves a much wider market.\\n\\nPros\\n\\n+Smart-looking design+Impressively bright display+Speedy Snapdragon 8 Gen 2 processor\\n\\nCons\\n\\n-No US availability-Memory options vary by region\\n, with details The Xiaomi 13 arrives as the successor to the company’s 2022 flagship – the Xiaomi 12 – and stays true to its predecessor’s philosophy: premium performance in a compact package.\\xa0\\nBeyond a marginal size increase, the phone’s display is largely unchanged, but Xiaomi’s knack for brightness and vivid colors is here delivered in a much sleeker, almost iPhone-like body, which lands the Xiaomi 13 in the ‘handsome’ camp of today’s best Android phones.\\nGranted, the Xiaomi 13 offers almost no originality on the design front beyond its Leica-branded camera setup (more on this below), but if, like me, you’re a sucker for Apple’s straight-sided aesthetic, then this phone’s unashamed resemblance to the best iPhones is a positive rather than a negative.\\xa0\\nThe Xiaomi 13’s impressive speeds are made possible by Qualcomm's Snapdragon 8 Gen 2 chipset – similar to the processor you’ll find powering Samsung’s newly-released Samsung Galaxy S23 line – and the device is offered in two memory variations: 8GB or 12GB of LPDDR5X RAM, paired with 256GB of UFS 4.0 storage (though, if you’re in the UK, you’re looking at the 8GB version only).\\xa0\\nThe phone’s 4,500mAh battery remains unchanged from the Xiaomi 12 – meaning you still get at least one whole day’s juice on a single charge – and the latter’s 67W wired charging, 50W wireless charging and 10W reverse wireless charging capabilities are carried over, too.\\xa0\\nOn paper, the biggest difference between the Xiaomi 13 and its predecessor is the former’s Leica-branded camera array. Comprising a 50MP f/1.8 main shooter with OIS (optical image stabilization), a 10MP f/2.0 telephoto camera with 3.2x optical zoom, and a 12MP f/2.2 ultrawide sensor, the Xiaomi 13’s camera setup makes the phone a much more versatile beast for photographers; primarily because Xiaomi’s Leica partnership allows for two distinct shooting modes: Vibrant and Authentic. The former makes colors look brighter and more saturated, while the latter replicates the original Leica look by encouraging bolder contrast and a greater dynamic range, which proves a nice differentiator between this and other Android phones.\\xa0\\nIf you’re looking for one of the very best camera phones, though, the Xiaomi 13 still doesn’t hold a candle to the photography performance offered by its Pro-grade sibling – the Xiaomi 13 Pro – or the Samsung Galaxy S23 Ultra and iPhone 14 Pro.\\xa0\\nThe bottom line is this: the Xiaomi 13 is an excellent flagship option for Android fans with a soft spot for Apple’s design philosophy. It doesn’t beat the competition in any one area, but Xiaomi’s latest premium offering still delivers almost everything you could want from a smartphone to an extremely high standard.\\nFor those looking to spend a little more money, our hands-on Xiaomi 13 Pro review may shed some light on whether the jump up to Xiaomi’s even-more premium photography-focused handset is worth it.\\n\",\n",
       " \"There is a review Hands on: Xiaomi 13 Lite review – the Civi's new suit: A Civi by any other name... that  indicating The Xiaomi 13 Lite certainly feels like the odd-one-out in the Xiaomi 13 series, and not only because it's a mid-ranger in what is otherwise a family of flagships. Despite packing older hardware and a borrowed design than its launch siblings, though, there are some subtle charms to this latest Lite.\\n\\nPros\\n\\n+Thin and lightweight design+Standout selfie camera setup+Fast 67W wired charging\\n\\nCons\\n\\n-Launches on the older Android 12-No IP rating or wireless charging\\n, with details Xiaomi had a lot to shout about at its February 26 launch event in Barcelona. Most notably, the Xiaomi 13 and Xiaomi 13 Pro made their international debut after having previously launched exclusively in China, late last year. There was, however, one additional surprise entrant in tow that, prior to this, we'd heard very little about – the Xiaomi 13 Lite.\\nAt a glance, the Lite is a bit of an oddball, an outlier in the Xiaomi 13 series. For one, it doesn't get any special Leica treatment like its series siblings – with regards to its triple rear sensor setup. It also looks very different compared to both the Xiaomi 13 and 13 Pro, with their sizeable squared rear camera bump.\\nIn truth, the phone clearly takes its design cues from the previous Xiaomi 12 series more so than the company's current flagship line and there's a particular device, already within Xiaomi's portfolio, that bears more than a passing resemblance to the new 13 Lite.\\nIt would seem that the Xiaomi 13 Lite looks to be a repackaged Xiaomi Civi 2, which debuted in China in the latter half of 2022. The Xiaomi 13 Lite sports the same slim and lightweight design, runs on the same Snapdragon 7 Gen 1 chipset, and boasts the same specialist features; like dual front-facing LED flashes to offer what the company calls 'Xiaomi Selfie Glow'.\\nIn fact, despite running on Android 12 – while the Xiaomi 13 and 13 Pro arrive with Android 13 – the Xiaomi 13 Lite does join them on the company's latest MIUI 14 user experience.\\nWhile there's no Leica involvement in the camera system, the main 50MP sensor still looks to be an impressive offering at first blush (it's the same Sony IMX766 found in the likes of the Xiaomi 12), while the secondary 8MP ultrawide and 2MP macro look a little more pedestrian and expected, considering the phone's mid-range standing.\\nIn a decidedly iPhone 14 Pro-style move, the front 32MP camera is accompanied by a secondary 8MP depth sensor that together sit within a pill-shaped cutout in the top center of the display in a way that screams 'Dynamic Island'. However, don't expect iOS-like functionality here.\\nIn truth, the design may be Lite's biggest selling point. Despite sitting in the middle of the Xiaomi 13 series in terms of screen size, at 6.55-inches (in between the Xiaomi 13's 6.36-inch display and the 13 Pro's 6.73-inch display), the 13 Lite is both notably thinner at 7.2mm (versus 8mm or 8.4mm) and lighter, at 171 grams (versus 185 grams and 210 grams, respectively).\\nEven with that snatched waistline, the 13 Lite still manages to sequester the same 4,500mAh capacity battery as the standard Xiaomi 13, along with the same 67W fast wired charging. What you do lose out on is any form of wireless charging tech. However, with a full charge promised in 40 minutes, that seems like a minor hardship.\\nProvided you don't need flagship performance or camera prowess, the 13 Lite looks to be a capable-enough mid-ranger, with some unique touches in an attractive, lightweight design. You'll have to check back for a full assessment though.\\nIn the meantime, read on for more insights into what the Xiaomi 13 Lite has to offer, and why not check out our Xiaomi 13 review and hands-on Xiaomi 13 Pro review, as well as a rundown of the best Xiaomi phones currently out there.\\n\",\n",
       " 'There is a review Hands on: Xiaomi 13 Pro review – a camera-led flagship for the world: Top-shelf performance and a huge Leica camera go global that  indicating We already knew that the Xiaomi 13 Pro had a lot to offer – having launched in China late last year. Now that it\\'s gone global, the new Pro looks primed to surpasses expectations, with impressive hardware and design, and a heap of technology. It\\'s the first international example of Xiaomi\\'s recent partnership with imaging specialists Leica, paired with a massive 1-inch main camera sensor. Oh, and don\\'t forget about the Snapdragon chipset, brilliant display, fast charging battery, and so much more.\\n\\nPros\\n\\n+Most efficient chipset, RAM and storage available+High-grade camera experience with Leica tuning+Strong, confident design\\n\\nCons\\n\\n-Fewer storage and color options compared to Chinese model-Finish attracts fingerprints-Huge camera bump-Heavy\\n, with details The wait felt long but Xiaomi is finally bringing its latest flagship line – the Xiaomi 13 series – to international markets. The best phones on the global stage, like the iPhone 14 Pro Max and Samsung Galaxy S23 Ultra, have a new contender to worry about; one that doesn\\'t mess around, based on my initial time with the Xiaomi 13 Pro.\\nAlthough it\\'s intended as a direct successor to Xiaomi 12 Pro, one of the 13 Pro\\'s biggest selling points (that new Leica-branded camera system) is actually a direct continuation of the technology first seen in the China-exclusive Xiaomi 12S Ultra that we encountered later into 2022, in August.\\nOur first taste of the company\\'s newly-minted relationship with the optical wizards at Leica, mated with Sony\\'s sizeable 1-inch IMX989 sensor and Xiaomi\\'s own image processing, proved to be a recipe for success; impressing reviewer Basil Kronfli, who described the 12S Ultra as \"the best camera phone I\\'ve used.\"\\nWith such lofty praise, the 12S Ultra\\'s absence from the international market felt like a crying shame, making the Xiaomi 13 Pro\\'s fresh international release all the more significant.\\nThat killer camera setup, features a trio of 50MP rear sensors, including a 3.2x telephoto with a floating lens arrangement. The Xiaomi 13 Pro also comes with a ceramic-backed body, plus Qualcomm\\'s latest and greatest Snapdragon 8 Gen 2 mobile chipset, with faster and more efficient memory and storage than its predecessor.\\nFor charging, we get the same impressive 120W wired, 50W wireless and 10W reverse wireless charging as before, but this time paired to a larger, 4,820mAh battery. Nice.\\nAlthough the verdict is still out on whether this is one of the best Android phones of the year, it certainly has the makings of a great flagship device, one that I can\\'t wait to sink my teeth into for a full review, so don\\'t forget to check back soon for a final verdict.\\nIn the meantime, read on for my hands-on experiences with the Xiaomi 13 Pro, and if you\\'re curious about its smaller-but-still-potent launch sibling, we also have a Xiaomi 13 review for you to enjoy too.\\n']"
      ]
     },
     "execution_count": 16,
     "metadata": {},
     "output_type": "execute_result"
    }
   ],
   "source": [
    "get_all_by_name(\"Xiaomi 13\")"
   ]
  }
 ],
 "metadata": {
  "kernelspec": {
   "display_name": "Python 3",
   "language": "python",
   "name": "python3"
  },
  "language_info": {
   "codemirror_mode": {
    "name": "ipython",
    "version": 3
   },
   "file_extension": ".py",
   "mimetype": "text/x-python",
   "name": "python",
   "nbconvert_exporter": "python",
   "pygments_lexer": "ipython3",
   "version": "3.11.3"
  },
  "orig_nbformat": 4
 },
 "nbformat": 4,
 "nbformat_minor": 2
}
