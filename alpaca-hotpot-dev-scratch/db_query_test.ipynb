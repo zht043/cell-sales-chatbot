{
 "cells": [
  {
   "cell_type": "code",
   "execution_count": 1,
   "id": "16d822d0-aecf-4c4e-be83-6cbd0e78b5c3",
   "metadata": {},
   "outputs": [],
   "source": [
    "import json\n",
    "import re\n",
    "from tqdm import tqdm\n",
    "import random\n",
    "import pickle"
   ]
  },
  {
   "cell_type": "code",
   "execution_count": 2,
   "id": "d2b1fb94-d840-41ac-99e6-c02b66301051",
   "metadata": {},
   "outputs": [],
   "source": [
    "%%capture\n",
    "!pip install -q transformers\n",
    "!pip install -q sentence_transformers\n"
   ]
  },
  {
   "cell_type": "code",
   "execution_count": null,
   "id": "11c8b236-b502-470d-b423-f935aef96508",
   "metadata": {},
   "outputs": [],
   "source": []
  },
  {
   "cell_type": "code",
   "execution_count": null,
   "id": "9ac5fa40-4ee9-441e-b817-51b039f5b887",
   "metadata": {},
   "outputs": [],
   "source": []
  },
  {
   "cell_type": "code",
   "execution_count": null,
   "id": "07f10b93-155a-48aa-b703-af6d22df8ca4",
   "metadata": {},
   "outputs": [],
   "source": []
  },
  {
   "cell_type": "code",
   "execution_count": 3,
   "id": "5c88d039-b522-4a85-ae34-973ae60f1a99",
   "metadata": {},
   "outputs": [],
   "source": [
    "# Load stuff\n",
    "with open(\"phone_dataset.pkl\", \"rb\") as f:\n",
    "    pdb = pickle.load(f)\n",
    "    \n",
    "phonedb_data, name_map = pdb\n",
    "name_list = list(name_map.keys())\n",
    "\n",
    "def query_specs_list(short_name, debug=False, replace_new_line = True):\n",
    "    spec_list = []\n",
    "    for ln in name_map[short_name]:\n",
    "        if debug:\n",
    "            print(ln)\n",
    "        if replace_new_line:\n",
    "            spec = phonedb_data[ln][0].replace(\"\\\\n\", \"\\n\")\n",
    "        else:\n",
    "            spec = phonedb_data[ln][0]\n",
    "        spec_list.append(spec)\n",
    "    return spec_list"
   ]
  },
  {
   "cell_type": "code",
   "execution_count": 4,
   "id": "967fbc31-b331-4c79-887b-d6546ce3a5b9",
   "metadata": {},
   "outputs": [
    {
     "name": "stdout",
     "output_type": "stream",
     "text": [
      "Brand: Huawei \n",
      " Model: Honor Changwan 7X Dual SIM TD-LTE CN 32GB BND-AL10 \n",
      " Released: 2017 Dec \n",
      " Announced: 2017 Oct 11 \n",
      " Hardware Designer: Huawei \n",
      " Manufacturer: Huawei \n",
      " Codename: Huawei Bond \n",
      " General Extras: Haptic touch feedback \n",
      " Device Category: Smartphone \n",
      " Width: 75.3 mm, 2.96 inch \n",
      " Height: 156.5 mm, 6.16 inch \n",
      " Depth: 7.6 mm, 0.3 inches \n",
      " Bounding Volume: 89.6 ccm \n",
      " Mass: 165 g, 5.82 ounces \n",
      " Platform: Google Android \n",
      " Operating System: Google Android 7.0 (Nougat), EMUI 5.1 \n",
      " Operati\n"
     ]
    }
   ],
   "source": [
    "#Example Usage\n",
    "\n",
    "random_idx = random.randint(0, len(name_list) - 1)\n",
    "query_name = name_list[random_idx]\n",
    "spec_list = query_specs_list(query_name)\n",
    "\n",
    "print(spec_list[0][0:500]) #only print the first text in the list in its first 500 letters"
   ]
  },
  {
   "cell_type": "code",
   "execution_count": null,
   "id": "aeafce69-ae20-444d-b4e6-4ce13b064204",
   "metadata": {},
   "outputs": [],
   "source": []
  },
  {
   "cell_type": "code",
   "execution_count": null,
   "id": "41b232cb-1a8a-48b9-829c-cd642836d664",
   "metadata": {},
   "outputs": [],
   "source": []
  },
  {
   "cell_type": "code",
   "execution_count": null,
   "id": "411bf6c8-2a4c-4e74-8c1f-b06211252aac",
   "metadata": {},
   "outputs": [],
   "source": []
  },
  {
   "cell_type": "code",
   "execution_count": 5,
   "id": "1fed344b-fcc8-4728-a727-f03ac5d6f6fc",
   "metadata": {},
   "outputs": [],
   "source": [
    "import torch\n",
    "from transformers import pipeline"
   ]
  },
  {
   "cell_type": "code",
   "execution_count": null,
   "id": "7a45f731-18d3-4b1f-adf9-fce31d277108",
   "metadata": {},
   "outputs": [],
   "source": []
  },
  {
   "cell_type": "code",
   "execution_count": 6,
   "id": "5decac66-c617-4af9-a5ec-37d124618a35",
   "metadata": {},
   "outputs": [],
   "source": [
    "classifier = pipeline(\"zero-shot-classification\", model=\"facebook/bart-large-mnli\")"
   ]
  },
  {
   "cell_type": "code",
   "execution_count": 7,
   "id": "983bcc19-22e1-47bf-bb7a-6883c66abc89",
   "metadata": {},
   "outputs": [],
   "source": [
    "seq = \"What are the specs and features of the iPhone 14 Pro and iPhone 8?\""
   ]
  },
  {
   "cell_type": "code",
   "execution_count": null,
   "id": "e157314e-2510-41fe-93b3-12367443b920",
   "metadata": {},
   "outputs": [],
   "source": []
  },
  {
   "cell_type": "code",
   "execution_count": null,
   "id": "b64a6cde-626b-4d7a-9d69-546881f28cce",
   "metadata": {},
   "outputs": [],
   "source": []
  },
  {
   "cell_type": "code",
   "execution_count": 8,
   "id": "c1c92079-be92-4352-ab88-80ddaae0f6a9",
   "metadata": {},
   "outputs": [],
   "source": [
    "%%capture\n",
    "!pip install -q fuzzywuzzy\n",
    "!pip install -q python-Levenshtein\n",
    "from fuzzywuzzy import fuzz"
   ]
  },
  {
   "cell_type": "code",
   "execution_count": null,
   "id": "b2ed0e2c-4bd1-40f5-bb01-6db174948479",
   "metadata": {},
   "outputs": [],
   "source": []
  },
  {
   "cell_type": "code",
   "execution_count": null,
   "id": "e33b7dda-de22-4453-b327-968168595a8b",
   "metadata": {},
   "outputs": [],
   "source": []
  },
  {
   "cell_type": "code",
   "execution_count": null,
   "id": "ba353456-d4f3-411f-987b-c05d4b588fed",
   "metadata": {},
   "outputs": [],
   "source": []
  },
  {
   "cell_type": "code",
   "execution_count": 9,
   "id": "0667f38c-c853-482b-912e-9ba0e2bfcdce",
   "metadata": {},
   "outputs": [],
   "source": [
    "def fuzzy_score(sentence, word):\n",
    "    return fuzz.partial_ratio(word, sentence.lower())\n",
    "\n",
    "def fuzzy_scores(sentence, word_list):\n",
    "    result = []\n",
    "    for word in word_list:\n",
    "        score = fuzz.partial_ratio(word, sentence.lower())\n",
    "        result.append([word, score])\n",
    "    return result    \n",
    "def topk_lables(fuzzy_score_list, k = 5):\n",
    "    fs_sort = sorted(fuzzy_score_list, key=lambda x: x[1], reverse=True)\n",
    "    lbs = []\n",
    "    for i in range(k):\n",
    "        lbs.append(fs_sort[i][0])\n",
    "    return lbs\n",
    "    "
   ]
  },
  {
   "cell_type": "code",
   "execution_count": 10,
   "id": "8085885d-3367-4c41-aa30-611301b7d58d",
   "metadata": {},
   "outputs": [
    {
     "name": "stdout",
     "output_type": "stream",
     "text": [
      "What are the specs and features of the iPhone 14 Pro and iPhone 8?\n"
     ]
    },
    {
     "data": {
      "text/plain": [
       "['iPhone 14', 'iPhone 8', 'iPhone 14 Pro', 'iPhone 11', 'iPhone 12']"
      ]
     },
     "execution_count": 10,
     "metadata": {},
     "output_type": "execute_result"
    }
   ],
   "source": [
    "print(seq)\n",
    "topk_lables(fuzzy_scores(seq, name_list))"
   ]
  },
  {
   "cell_type": "code",
   "execution_count": null,
   "id": "d1687ba2-5339-4f3a-a8b9-53bedded5496",
   "metadata": {},
   "outputs": [],
   "source": []
  },
  {
   "cell_type": "code",
   "execution_count": 11,
   "id": "fc3adb56-2c35-45c5-9fd8-c3b37c197cd3",
   "metadata": {},
   "outputs": [],
   "source": [
    "seq1 = \"What are the specifications for the Samsung Galaxy S20 Plus?\"\n",
    "seq2 = \"Can you tell me the battery life for the Apple iPhone 12 Pro Max?\"\n",
    "seq3 = \"What is the screen size for the Xiaomi Redmi Note 10 Pro?\"\n",
    "seq4 = \"What is the camera resolution for the Huawei P40 Pro?\"\n",
    "seq5 = \"Can you give me the weight for the Samsung Galaxy S21 Ultra?\"\n",
    "\n",
    "\n",
    "seq6= \"How do the camera capabilities of the Apple iPhone 12, Samsung Galaxy S21, and Xiaomi Mi 11 compare?\"\n",
    "seq7 = \"Which phone has a larger screen, the Samsung Galaxy Note 20 or Huawei P40 Pro Plus?\"\n",
    "seq8 = \"Can you list the battery life for the Apple iPhone SE, Xiaomi Redmi Note 9 Pro, and Huawei P30 Pro?\"\n",
    "seq9 = \"What are the storage options for the Samsung Galaxy A71, Apple iPhone 11, and Xiaomi Mi 10T Pro?\"\n",
    "seq10 = \"How does the Face ID feature on the Apple iPhone X compare to the fingerprint sensor on the Huawei Mate 40 Pro and Samsung Galaxy S10?\""
   ]
  },
  {
   "cell_type": "code",
   "execution_count": null,
   "id": "740757df-b186-498f-b7b0-a1345fca8e6c",
   "metadata": {},
   "outputs": [],
   "source": []
  },
  {
   "cell_type": "code",
   "execution_count": 12,
   "id": "ca926784-cb78-4d5f-bd62-357cdf8f4d01",
   "metadata": {},
   "outputs": [
    {
     "data": {
      "text/plain": [
       "{'sequence': 'What are the specifications for the Samsung Galaxy S20 Plus?',\n",
       " 'labels': ['Samsung Galaxy S20+',\n",
       "  'Samsung Galaxy S20',\n",
       "  'Samsung Galaxy A20s',\n",
       "  'Samsung Galaxy S23',\n",
       "  'Samsung Galaxy A6s'],\n",
       " 'scores': [0.764614462852478,\n",
       "  0.2086407095193863,\n",
       "  0.011368677951395512,\n",
       "  0.011285211890935898,\n",
       "  0.004090992268174887]}"
      ]
     },
     "execution_count": 12,
     "metadata": {},
     "output_type": "execute_result"
    }
   ],
   "source": [
    "seq = seq1\n",
    "\n",
    "narrowed_labels = topk_lables(fuzzy_scores(seq, name_list))\n",
    "\n",
    "classifier(seq, narrowed_labels, multiclass=True)"
   ]
  },
  {
   "cell_type": "code",
   "execution_count": 13,
   "id": "38afdf00-d527-478c-a0e4-4feeda6a2170",
   "metadata": {},
   "outputs": [
    {
     "data": {
      "text/plain": [
       "{'sequence': 'How do the camera capabilities of the Apple iPhone 12, Samsung Galaxy S21, and Xiaomi Mi 11 compare?',\n",
       " 'labels': ['iPhone 12',\n",
       "  'Xiaomi Mi 11',\n",
       "  'Samsung Galaxy S21',\n",
       "  'Samsung Galaxy S21+',\n",
       "  'Samsung Galaxy A6s'],\n",
       " 'scores': [0.5691676735877991,\n",
       "  0.19673483073711395,\n",
       "  0.16890756785869598,\n",
       "  0.059184640645980835,\n",
       "  0.0060053253546357155]}"
      ]
     },
     "execution_count": 13,
     "metadata": {},
     "output_type": "execute_result"
    }
   ],
   "source": [
    "seq = seq6\n",
    "\n",
    "narrowed_labels = topk_lables(fuzzy_scores(seq, name_list))\n",
    "\n",
    "classifier(seq, narrowed_labels, multiclass=True)"
   ]
  },
  {
   "cell_type": "code",
   "execution_count": 14,
   "id": "e9f92f10-ceeb-4de7-9241-9923ec0934f7",
   "metadata": {},
   "outputs": [
    {
     "data": {
      "text/plain": [
       "{'sequence': 'Which phone has a larger screen, the Samsung Galaxy Note 20 or Huawei P40 Pro Plus?',\n",
       " 'labels': ['Samsung Galaxy Note 20',\n",
       "  'Huawei P40 Pro',\n",
       "  'Huawei P40',\n",
       "  'Huawei P40 Pro+',\n",
       "  'Samsung Galaxy Note 20 Ultra',\n",
       "  'Samsung Galaxy Note 10+',\n",
       "  'Samsung Galaxy Note 9',\n",
       "  'Samsung Galaxy Note 10',\n",
       "  'Samsung Galaxy A53',\n",
       "  'Samsung Galaxy Note 8 Duos'],\n",
       " 'scores': [0.30299654603004456,\n",
       "  0.22459819912910461,\n",
       "  0.19807952642440796,\n",
       "  0.14535367488861084,\n",
       "  0.05118313804268837,\n",
       "  0.0197310708463192,\n",
       "  0.016331294551491737,\n",
       "  0.015738993883132935,\n",
       "  0.014524193480610847,\n",
       "  0.011463314294815063]}"
      ]
     },
     "execution_count": 14,
     "metadata": {},
     "output_type": "execute_result"
    }
   ],
   "source": [
    "seq = seq7\n",
    "\n",
    "narrowed_labels = topk_lables(fuzzy_scores(seq, name_list), k = 10)\n",
    "\n",
    "classifier(seq, narrowed_labels, multiclass=True)"
   ]
  },
  {
   "cell_type": "code",
   "execution_count": null,
   "id": "58be134d-2591-4a6a-b8e3-3a6989ad58f0",
   "metadata": {},
   "outputs": [],
   "source": []
  },
  {
   "cell_type": "code",
   "execution_count": 18,
   "id": "c35096a7-376a-44aa-8548-e1789e6cee31",
   "metadata": {},
   "outputs": [
    {
     "name": "stdout",
     "output_type": "stream",
     "text": [
      "Can you list the battery life for the Apple iPhone SE, Xiaomi Redmi Note 9 Pro, and Huawei P30 Pro?\n",
      "Huawei P30\n",
      "1.6489471733745198\n",
      "Xiaomi Redmi Note 9 Pro\n",
      "1.1473202217736986\n",
      "Xiaomi Redmi Note 9\n",
      "0.3895731962047616\n"
     ]
    }
   ],
   "source": [
    "from scipy.stats import entropy\n",
    "\n",
    "seq = seq8\n",
    "print(seq)\n",
    "\n",
    "seq_tmp = seq.copy()\n",
    "nl_tmp = name_list.copy()\n",
    "for i in range(3):\n",
    "    narrowed_labels = topk_lables(fuzzy_scores(seq, nl_tmp), k = 5)\n",
    "    result = classifier(seq, narrowed_labels)\n",
    "    pred_model_name = result[\"labels\"][0]\n",
    "    print(pred_model_name)\n",
    "    \n",
    "    \n",
    "    # scores_distr_evenness = entropy(result[\"scores\"], base=2) \n",
    "    # print(scores_distr_evenness)\n",
    "    nl_tmp.remove(pred_model_name)\n",
    "    \n",
    "    \n",
    "    \n",
    "    \n",
    "    "
   ]
  },
  {
   "cell_type": "code",
   "execution_count": null,
   "id": "f6bc8090-8b91-48ff-8569-19ebb34da525",
   "metadata": {},
   "outputs": [],
   "source": []
  },
  {
   "cell_type": "code",
   "execution_count": null,
   "id": "633b7630-dcb0-41b8-8907-9b4e4cd4e61f",
   "metadata": {},
   "outputs": [],
   "source": []
  },
  {
   "cell_type": "code",
   "execution_count": null,
   "id": "7a90a302-c78f-4ed5-8818-e1d7f57c3198",
   "metadata": {},
   "outputs": [],
   "source": []
  },
  {
   "cell_type": "code",
   "execution_count": null,
   "id": "7fa95c03-dad8-4106-a21d-a90639208fd5",
   "metadata": {},
   "outputs": [],
   "source": []
  },
  {
   "cell_type": "code",
   "execution_count": null,
   "id": "602da651-4b4e-451c-935d-9f0e96a3c5e9",
   "metadata": {},
   "outputs": [],
   "source": []
  },
  {
   "cell_type": "code",
   "execution_count": null,
   "id": "df5a9307-363b-4b48-84ab-8d8713b7a931",
   "metadata": {},
   "outputs": [],
   "source": []
  },
  {
   "cell_type": "code",
   "execution_count": null,
   "id": "74efa8ad-545b-450e-beb7-62fcbdf47f31",
   "metadata": {},
   "outputs": [],
   "source": []
  },
  {
   "cell_type": "code",
   "execution_count": null,
   "id": "91a29a79-e7dc-463b-b434-051ed67a75f7",
   "metadata": {},
   "outputs": [],
   "source": [
    "for n in name_list:\n",
    "    if \"Huawei P40\" in n:\n",
    "        print(n)"
   ]
  },
  {
   "cell_type": "code",
   "execution_count": null,
   "id": "8bb5977c-a2fc-4695-9f21-e6a894fe18b0",
   "metadata": {},
   "outputs": [],
   "source": []
  },
  {
   "cell_type": "code",
   "execution_count": null,
   "id": "e3ab0605-f6c7-4a39-843a-14d92add6ec9",
   "metadata": {},
   "outputs": [],
   "source": []
  },
  {
   "cell_type": "code",
   "execution_count": 1,
   "id": "aac70322-0e81-49a5-9581-45d087c2d8d1",
   "metadata": {},
   "outputs": [
    {
     "data": {
      "application/vnd.jupyter.widget-view+json": {
       "model_id": "87eec98e97604c58a96c5917776f94b7",
       "version_major": 2,
       "version_minor": 0
      },
      "text/plain": [
       "Downloading (…)okenizer_config.json:   0%|          | 0.00/79.0 [00:00<?, ?B/s]"
      ]
     },
     "metadata": {},
     "output_type": "display_data"
    },
    {
     "data": {
      "application/vnd.jupyter.widget-view+json": {
       "model_id": "7f9414c4b5cf47ba89ab9822f41a6c4c",
       "version_major": 2,
       "version_minor": 0
      },
      "text/plain": [
       "Downloading (…)lve/main/config.json:   0%|          | 0.00/571 [00:00<?, ?B/s]"
      ]
     },
     "metadata": {},
     "output_type": "display_data"
    },
    {
     "data": {
      "application/vnd.jupyter.widget-view+json": {
       "model_id": "445a5e42e76146c6aaabee1d5d35bf65",
       "version_major": 2,
       "version_minor": 0
      },
      "text/plain": [
       "Downloading (…)olve/main/vocab.json:   0%|          | 0.00/899k [00:00<?, ?B/s]"
      ]
     },
     "metadata": {},
     "output_type": "display_data"
    },
    {
     "data": {
      "application/vnd.jupyter.widget-view+json": {
       "model_id": "2add1152b551438eb9c828580d97ce48",
       "version_major": 2,
       "version_minor": 0
      },
      "text/plain": [
       "Downloading (…)olve/main/merges.txt:   0%|          | 0.00/456k [00:00<?, ?B/s]"
      ]
     },
     "metadata": {},
     "output_type": "display_data"
    },
    {
     "data": {
      "application/vnd.jupyter.widget-view+json": {
       "model_id": "0ce6eeec55be4decad30e694b7801c14",
       "version_major": 2,
       "version_minor": 0
      },
      "text/plain": [
       "Downloading (…)cial_tokens_map.json:   0%|          | 0.00/772 [00:00<?, ?B/s]"
      ]
     },
     "metadata": {},
     "output_type": "display_data"
    },
    {
     "data": {
      "application/vnd.jupyter.widget-view+json": {
       "model_id": "abe1a5bb1e7b4b9caf6d3f100b2e3502",
       "version_major": 2,
       "version_minor": 0
      },
      "text/plain": [
       "Downloading pytorch_model.bin:   0%|          | 0.00/496M [00:00<?, ?B/s]"
      ]
     },
     "metadata": {},
     "output_type": "display_data"
    }
   ],
   "source": [
    "from transformers import AutoTokenizer, RobertaForQuestionAnswering\n",
    "\n",
    "#load pretrained RoBERTa\n",
    "tokenizer = AutoTokenizer.from_pretrained('deepset/roberta-base-squad2')\n",
    "model = RobertaForQuestionAnswering.from_pretrained('deepset/roberta-base-squad2')"
   ]
  },
  {
   "cell_type": "code",
   "execution_count": null,
   "id": "f6e29620-2da1-40af-9446-247fe7ea1029",
   "metadata": {},
   "outputs": [],
   "source": [
    "context = \"\"\"\n",
    "\n",
    "\"\"\"\n",
    "\n",
    "\n",
    "question = \"how many phone names are available\""
   ]
  },
  {
   "cell_type": "code",
   "execution_count": null,
   "id": "60ed72ec-3829-4796-9fa2-55079f7acf1d",
   "metadata": {},
   "outputs": [],
   "source": [
    "# Tokenize the context and question pair\n",
    "input_ids = tokenizer.encode(question, context)\n",
    "\n",
    "#print(input_ids)\n",
    "#print(tokenizer.decode(input_ids))\n",
    "\n",
    "# Get the start and end positions of the answer in the context\n",
    "model_output = model(torch.tensor([input_ids]))\n",
    "\n",
    "#print(model_output.start_logits)\n",
    "\n",
    "start_index = model_output.start_logits.argmax()\n",
    "end_index = model_output.end_logits.argmax()\n",
    "\n",
    "# Decode the answer from the context\n",
    "answer = tokenizer.decode(input_ids[start_index:end_index + 1])\n",
    "print(answer)"
   ]
  },
  {
   "cell_type": "code",
   "execution_count": null,
   "id": "b78505d4-7625-412b-9490-eadbc4b77741",
   "metadata": {},
   "outputs": [],
   "source": []
  },
  {
   "cell_type": "code",
   "execution_count": null,
   "id": "b39020ac-7af7-47a8-98d3-e3f4512e30d1",
   "metadata": {},
   "outputs": [],
   "source": []
  },
  {
   "cell_type": "code",
   "execution_count": null,
   "id": "b6a4e0e6-2a04-442c-aa0f-c72dff001291",
   "metadata": {},
   "outputs": [],
   "source": []
  },
  {
   "cell_type": "code",
   "execution_count": null,
   "id": "87c4ea95-167c-4665-94e9-7b2ff8a0b647",
   "metadata": {},
   "outputs": [],
   "source": []
  }
 ],
 "metadata": {
  "kernelspec": {
   "display_name": "Python 3 (ipykernel)",
   "language": "python",
   "name": "python3"
  },
  "language_info": {
   "codemirror_mode": {
    "name": "ipython",
    "version": 3
   },
   "file_extension": ".py",
   "mimetype": "text/x-python",
   "name": "python",
   "nbconvert_exporter": "python",
   "pygments_lexer": "ipython3",
   "version": "3.10.8"
  }
 },
 "nbformat": 4,
 "nbformat_minor": 5
}
