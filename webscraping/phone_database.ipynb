{
 "cells": [
  {
   "cell_type": "code",
   "execution_count": 1,
   "id": "55a6d0b0-94f5-4ccf-9acb-885912fed388",
   "metadata": {},
   "outputs": [],
   "source": [
    "import json\n",
    "import re\n",
    "from tqdm import tqdm\n",
    "import random"
   ]
  },
  {
   "cell_type": "markdown",
   "id": "42825b00-442b-4a62-b31a-8bf8f8275fcc",
   "metadata": {},
   "source": [
    "## load raw phonedb dataset scraped in phonedb_scraper.ipynb"
   ]
  },
  {
   "cell_type": "code",
   "execution_count": 2,
   "id": "bb325099-f0a3-4839-850d-04e85836b560",
   "metadata": {},
   "outputs": [
    {
     "name": "stdout",
     "output_type": "stream",
     "text": [
      "dict_keys(['Samsung', 'Xiaomi', 'Huawei', 'Apple'])\n"
     ]
    }
   ],
   "source": [
    "\n",
    "\n",
    "with open('phonedb_dataset.json', 'r') as f:\n",
    "    phonedb_data = json.load(f)\n",
    "\n",
    "model_long_names = list(phonedb_data.keys())\n",
    "#print(phonedb_data[model_long_names[0]][0].replace(\"\\\\n\", \"\\n\"))\n",
    "\n",
    "brand_name_indexer = {}\n",
    "\n",
    "for lname in model_long_names:\n",
    "    brand_name = lname.split()[0]\n",
    "    #print(brand_name)\n",
    "    if brand_name not in brand_name_indexer.keys():\n",
    "        brand_name_indexer[brand_name] = []\n",
    "    brand_name_indexer[brand_name].append(lname)\n",
    "print(brand_name_indexer.keys())\n",
    "#print(brand_name_indexer[bn])"
   ]
  },
  {
   "cell_type": "code",
   "execution_count": null,
   "id": "7272e6cf-017d-47ca-824e-74ebd1265799",
   "metadata": {},
   "outputs": [],
   "source": []
  },
  {
   "cell_type": "code",
   "execution_count": null,
   "id": "2a907f35-a211-4b77-8242-c421ae0d3780",
   "metadata": {},
   "outputs": [],
   "source": []
  },
  {
   "cell_type": "markdown",
   "id": "e040125b-692d-49f4-88d5-e76d652561be",
   "metadata": {},
   "source": [
    "## Create phone database \n",
    "\n",
    "The database is simply a python dictionary, which uses short abbreviated phone model name as keys, and a value in the database, indexed by the keys, is a python list containing the html text data for all long model names associated with the short name used as the key.\n",
    "\n",
    "The short abbr. names are gotten from regex filters using human prior knowledge rules on the naming convention for each phone brand.\n",
    "\n",
    "Example short name: iPhone 13\n",
    "\n",
    "Example long names associated with the above short name: \n",
    "* Apple iPhone 13 mini 5G A2629 Dual SIM TD-LTE CN 512GB \n",
    "* Apple iPhone 13 mini 5G A2629 Dual SIM TD-LTE CN 256GB\n",
    "* ......\n",
    "* Apple iPhone 13 5G A2634 Dual SIM TD-LTE CN 128GB \n",
    "* ......\n",
    "* Apple iPhone 13 Pro 5G A2639 Dual SIM TD-LTE CN 1TB\n",
    "* ......"
   ]
  },
  {
   "cell_type": "code",
   "execution_count": 3,
   "id": "d43228e5-4fda-41ef-a52b-f406bd8e6e90",
   "metadata": {},
   "outputs": [],
   "source": [
    "phone_name_abbr = {}"
   ]
  },
  {
   "cell_type": "code",
   "execution_count": 4,
   "id": "0343c093-932c-4a0c-af54-19ff5bd4445a",
   "metadata": {},
   "outputs": [],
   "source": [
    "bn = 'Apple'\n",
    "phone_name_abbr[bn] = set()\n",
    "for lname in brand_name_indexer[bn]:\n",
    "    result = re.search(r'^(.*?)\\bA\\d{4}\\b', lname)\n",
    "    if result != None:\n",
    "        sname = result.group(1).replace(bn, \"\").replace(\"5G\", \"\").strip()\n",
    "    phone_name_abbr[bn].add(sname)\n",
    "    \n",
    "# nls = list(phone_name_abbr[bn])\n",
    "# nls.sort()\n",
    "# for n in nls:\n",
    "#     print(n)"
   ]
  },
  {
   "cell_type": "code",
   "execution_count": 5,
   "id": "0fb1a386-6025-4771-9a8a-07c4e37491aa",
   "metadata": {},
   "outputs": [
    {
     "name": "stderr",
     "output_type": "stream",
     "text": [
      "/tmp/ipykernel_764/4202839765.py:6: DeprecationWarning: Flags not at the start of the expression '(.*?)(?i)edition' but at position 5\n",
      "  result = re.search(r'(.*?)(?i)edition', lname)\n",
      "/tmp/ipykernel_764/4202839765.py:16: DeprecationWarning: Flags not at the start of the expression '(.*?)(?i)(\\\\s4G|\\\\s5G)' but at position 5\n",
      "  result = re.search(r'(.*?)(?i)(\\s4G|\\s5G)', lname)\n",
      "/tmp/ipykernel_764/4202839765.py:11: DeprecationWarning: Flags not at the start of the expression '(.*?)(?i)Lite' but at position 5\n",
      "  result = re.search(r'(.*?)(?i)Lite', sname)\n",
      "/tmp/ipykernel_764/4202839765.py:28: DeprecationWarning: Flags not at the start of the expression '(.*?)(?i)Dual' but at position 5\n",
      "  result = re.search(r'(.*?)(?i)Dual', lname)\n"
     ]
    }
   ],
   "source": [
    "bn = 'Huawei'\n",
    "phone_name_abbr[bn] = set()\n",
    "remainder_set = set()\n",
    "sname = None\n",
    "for lname in brand_name_indexer[bn]:\n",
    "    result = re.search(r'(.*?)(?i)edition', lname)\n",
    "    if result != None:\n",
    "        #sname = result.group(0)\n",
    "        sname_split = result.group(0).split()\n",
    "        sname = ' '.join(sname_split[:-2])\n",
    "        result = re.search(r'(.*?)(?i)Lite', sname)\n",
    "        if result != None:\n",
    "            sname = result.group(0)\n",
    "        #print(lname, \": \", sname)\n",
    "    else:\n",
    "        result = re.search(r'(.*?)(?i)(\\s4G|\\s5G)', lname)\n",
    "        if result != None:\n",
    "            sname = result.group(0)\n",
    "        else:\n",
    "            remainder_set.add(lname)\n",
    "    if sname != None and 'Tablet' not in sname:\n",
    "        if 'Premium' not in sname and 'Dual' not in sname:\n",
    "            sname = sname.replace(\"5G\", \"\").replace(\"4G\", \"\")\n",
    "            phone_name_abbr[bn].add(sname)\n",
    "\n",
    "remainder_set2 = set() \n",
    "for lname in list(remainder_set):\n",
    "    result = re.search(r'(.*?)(?i)Dual', lname)\n",
    "    if result != None:\n",
    "        sname = result.group(1)\n",
    "        phone_name_abbr[bn].add(sname)\n",
    "    else:\n",
    "        remainder_set2.add(lname)\n",
    "    \n",
    "# nls = list(remainder_set)\n",
    "# nls.sort()\n",
    "# for n in nls:\n",
    "#     print(n)\n",
    "    \n",
    "    \n",
    "# nls = list(phone_name_abbr[bn])\n",
    "# nls.sort()\n",
    "# for n in nls:\n",
    "#     print(n)"
   ]
  },
  {
   "cell_type": "code",
   "execution_count": 6,
   "id": "9a6efcd6-0720-4c50-a721-ab91423f9f53",
   "metadata": {},
   "outputs": [],
   "source": [
    "bn = 'Xiaomi'\n",
    "phone_name_abbr[bn] = set()\n",
    "remainder_set = set()\n",
    "sname = None\n",
    "for lname in brand_name_indexer[bn]:\n",
    "    result = re.search(r'(.*?)(?i)edition', lname)\n",
    "    if result != None:\n",
    "        #sname = result.group(0)\n",
    "        sname_split = result.group(0).split()\n",
    "        sname = ' '.join(sname_split[:-2])\n",
    "        result = re.search(r'(.*?)(?i)Lite', sname)\n",
    "        if result != None:\n",
    "            sname = result.group(0)\n",
    "        #print(lname, \": \", sname)\n",
    "    else:\n",
    "        result = re.search(r'(.*?)(?i)(\\s4G|\\s5G)', lname)\n",
    "        if result != None:\n",
    "            sname = result.group(0)\n",
    "        else:\n",
    "            remainder_set.add(lname)\n",
    "    if sname != None and 'Tablet' not in sname:\n",
    "        if 'Premium' not in sname and 'Dual' not in sname:\n",
    "            sname = sname.replace(\"5G\", \"\").replace(\"4G\", \"\")\n",
    "            phone_name_abbr[bn].add(sname)\n",
    "\n",
    "remainder_set2 = set() \n",
    "for lname in list(remainder_set):\n",
    "    result = re.search(r'(.*?)(?i)Dual', lname)\n",
    "    if result != None:\n",
    "        sname = result.group(1)\n",
    "        phone_name_abbr[bn].add(sname)\n",
    "    else:\n",
    "        remainder_set2.add(lname)\n",
    "    \n",
    "# nls = list(remainder_set2)\n",
    "# nls.sort()\n",
    "# for n in nls:\n",
    "#     print(n)\n",
    "    \n",
    "    \n",
    "# nls = list(phone_name_abbr[bn])\n",
    "# nls.sort()\n",
    "# for n in nls:\n",
    "#     print(n)"
   ]
  },
  {
   "cell_type": "code",
   "execution_count": 7,
   "id": "071f4cb7-8a66-4a36-b0cd-cacb0422038c",
   "metadata": {},
   "outputs": [],
   "source": [
    "bn = 'Samsung'\n",
    "phone_name_abbr[bn] = set()\n",
    "remainder_set = set()\n",
    "sname = None\n",
    "for lname in brand_name_indexer[bn]:\n",
    "    result = re.search(r'(.*?)(?i)edition', lname)\n",
    "    if result != None:\n",
    "        #sname = result.group(0)\n",
    "        sname_split = result.group(0).split()\n",
    "        sname = ' '.join(sname_split[:-2])\n",
    "        result = re.search(r'(.*?)(?i)Lite', sname)\n",
    "        if result != None:\n",
    "            sname = result.group(0)\n",
    "        #print(lname, \": \", sname)\n",
    "    else:\n",
    "        result = re.search(r'(.*?)(?i)(\\s4G|\\s5G)', lname)\n",
    "        if result != None:\n",
    "            sname = result.group(0)\n",
    "        else:\n",
    "            remainder_set.add(lname)\n",
    "    if sname != None and 'Tablet' not in sname:\n",
    "        if 'Premium' not in sname and 'Dual' not in sname:\n",
    "            sname = sname.replace(\"5G\", \"\").replace(\"4G\", \"\")\n",
    "            sname = re.sub(r'(\\bSM-\\w+)|(\\b/DS\\b)|(\\b\\d{4})', '', sname)\n",
    "            sname = sname.replace(\"  \", \" \")\n",
    "            phone_name_abbr[bn].add(sname)\n",
    "\n",
    "remainder_set2 = set() \n",
    "for lname in list(remainder_set):\n",
    "    result = re.search(r'(.*?)(?i)Dual', lname)\n",
    "    if result != None:\n",
    "        sname = result.group(1)\n",
    "        sname = re.sub(r'(\\bSM-\\w+)|(\\b/DS\\b)|(\\b\\d{4})', '', sname)\n",
    "        sname = sname.replace(\"  \", \" \")\n",
    "        phone_name_abbr[bn].add(sname)\n",
    "    else:\n",
    "        remainder_set2.add(lname)\n",
    "\n",
    "    \n",
    "# nls = list(remainder_set)\n",
    "# nls.sort()\n",
    "# for n in nls:\n",
    "#     print(n)\n",
    "    \n",
    "    \n",
    "# nls = list(phone_name_abbr[bn])\n",
    "# nls.sort()\n",
    "# for n in nls:\n",
    "#     print(n)"
   ]
  },
  {
   "cell_type": "code",
   "execution_count": 8,
   "id": "5183b835-c321-4604-bcd5-1f74bd93864f",
   "metadata": {},
   "outputs": [],
   "source": [
    "name_list = []\n",
    "for bn in phone_name_abbr.keys():\n",
    "    for n in phone_name_abbr[bn]:\n",
    "        name_list.append(n.strip().replace(\"  \", \" \"))"
   ]
  },
  {
   "cell_type": "code",
   "execution_count": 9,
   "id": "bb44df49-152b-4ffc-b7d3-2a26b0cff840",
   "metadata": {},
   "outputs": [
    {
     "name": "stdout",
     "output_type": "stream",
     "text": [
      "394\n",
      "1064\n"
     ]
    }
   ],
   "source": [
    "long_name_list = model_long_names\n",
    "print(len(name_list))\n",
    "print(len(long_name_list))"
   ]
  },
  {
   "cell_type": "code",
   "execution_count": null,
   "id": "60d7c524-f2a0-4ce4-b551-769be621eb3e",
   "metadata": {},
   "outputs": [],
   "source": []
  },
  {
   "cell_type": "code",
   "execution_count": 10,
   "id": "086cdadf-9c27-4e19-ae26-ffacf112c98f",
   "metadata": {},
   "outputs": [],
   "source": [
    "name_map = {}\n",
    "\n",
    "for bn in brand_name_indexer.keys():\n",
    "    #print(bn)\n",
    "    short_name_dict = {}\n",
    "    \n",
    "    bn2 = bn\n",
    "    if bn == 'Apple':\n",
    "        bn2 = 'iPhone'\n",
    "    for sn in ([s for s in name_list if bn2 in s]):\n",
    "        \n",
    "        sn2 = sn\n",
    "        if 'Samsung' in sn2:\n",
    "            sn2 = sn.replace('Samsung', '').strip()\n",
    "        lns = []\n",
    "        \n",
    "        for ln in ([l for l in long_name_list if sn2 in l]):\n",
    "             lns.append(ln)\n",
    "                \n",
    "        short_name_dict[sn] = lns\n",
    "        \n",
    "    name_map.update(short_name_dict)\n",
    "\n",
    "#list(name_map.keys())\n",
    "#name_map"
   ]
  },
  {
   "cell_type": "code",
   "execution_count": null,
   "id": "7449f163-2989-471f-b11c-6febca837a37",
   "metadata": {},
   "outputs": [],
   "source": []
  },
  {
   "cell_type": "code",
   "execution_count": 11,
   "id": "40511e07-65bb-4202-9ff8-7f89867d1276",
   "metadata": {},
   "outputs": [],
   "source": [
    "# Helper function for easier usage\n",
    "def query_specs_list(short_name, debug=False, replace_new_line = True):\n",
    "    spec_list = []\n",
    "    for ln in name_map[short_name]:\n",
    "        if debug:\n",
    "            print(ln)\n",
    "        if replace_new_line:\n",
    "            spec = phonedb_data[ln][0].replace(\"\\\\n\", \"\\n\")\n",
    "        else:\n",
    "            spec = phonedb_data[ln][0]\n",
    "        spec_list.append(spec)\n",
    "    return spec_list"
   ]
  },
  {
   "cell_type": "code",
   "execution_count": null,
   "id": "a178fbf1-02dd-4c2a-a096-7a5dc3439e78",
   "metadata": {},
   "outputs": [],
   "source": []
  },
  {
   "cell_type": "code",
   "execution_count": 12,
   "id": "85005388-60b4-4d07-92e8-15f3e2f485b6",
   "metadata": {},
   "outputs": [
    {
     "name": "stdout",
     "output_type": "stream",
     "text": [
      "['iPhone SE 2022 3rd gen', 'Huawei Honor 10 +', 'Huawei Honor 8X Max +', 'Xiaomi Black Shark 4S Gundam', 'Xiaomi Mi Mix Fold 2021 Ceramic', 'Xiaomi Redmi K30 Extreme', 'Xiaomi Civi 2 Hello Kitty', 'Samsung Galaxy Tab S8 Ultra 14.6', 'Samsung Galaxy Tab S8+ 12.4', 'Samsung Galaxy Z Fold2 Thom', 'Samsung Galaxy Z Fold3 Thom', 'Samsung Galaxy Tab S8 11', 'Samsung Galaxy Z Flip 4 Maison', 'Samsung Galaxy Z Flip 3 Thom Browne']\n",
      "14\n"
     ]
    }
   ],
   "source": [
    "exception_list = []\n",
    "for i in range(0, len(name_list) - 1):\n",
    "    query_name = name_list[i]\n",
    "    spec_list = query_specs_list(query_name, debug=False)\n",
    "    if len(spec_list) == 0: \n",
    "        exception_list.append(query_name)\n",
    "print(exception_list)        \n",
    "print(len(exception_list))\n",
    "\n",
    "\n"
   ]
  },
  {
   "cell_type": "code",
   "execution_count": 13,
   "id": "0d7c41b3-0923-402a-a578-371e33eb79f5",
   "metadata": {},
   "outputs": [],
   "source": [
    "name_list = [item for item in name_list if item not in exception_list]\n",
    "\n",
    "# print(len(name_map.keys()))\n",
    "# print(len(name_list))\n",
    "keys = list(name_map.keys())\n",
    "for key in keys:\n",
    "    if key not in name_list:\n",
    "        del name_map[key]\n",
    "# print(len(name_map.keys()))\n",
    "# print(len(name_list))"
   ]
  },
  {
   "cell_type": "code",
   "execution_count": null,
   "id": "afc5820f-6380-4270-a229-21a692c222c6",
   "metadata": {},
   "outputs": [],
   "source": []
  },
  {
   "cell_type": "code",
   "execution_count": null,
   "id": "1a66b2df-310a-4b4e-9930-80e893bed693",
   "metadata": {},
   "outputs": [],
   "source": []
  },
  {
   "cell_type": "code",
   "execution_count": null,
   "id": "98872355-8d62-4167-904d-3750a32cd509",
   "metadata": {},
   "outputs": [],
   "source": []
  },
  {
   "cell_type": "markdown",
   "id": "86ab0be3-0127-4fad-b7e9-4bbcfa5cb0e4",
   "metadata": {},
   "source": [
    "## Example Usage"
   ]
  },
  {
   "cell_type": "code",
   "execution_count": 14,
   "id": "734faa9c-c3e0-450d-b4da-87fb2485d534",
   "metadata": {},
   "outputs": [
    {
     "name": "stdout",
     "output_type": "stream",
     "text": [
      "Brand: Samsung \n",
      " Model: SM-T735C Galaxy Tab S7 FE 4G 12.4 2021 TD-LTE CN 64GB \n",
      " Brief Info: With low latency and a soft tip, the included S Pen offers a natural writing experience. Chinese LTE variant of Tab S7 FE with 4 GiB RAM, 64 GB ROM \n",
      " Released: 2021 Jun 14 \n",
      " Announced: 2021 May 26 \n",
      " Hardware Designer: Samsung Electronics \n",
      " Manufacturer: Samsung Electronics \n",
      " Codename: Samsung T730 \n",
      " General Extras: Active stylus \n",
      " Device Category: Tablet \n",
      " Width: 284.8 mm, 11.21 inch \n",
      " Height: 185 mm, 7.2\n"
     ]
    }
   ],
   "source": [
    "#Example Usage\n",
    "\n",
    "### name_list stores all short names\n",
    "### name_list is equivalent to the keys of name_map (called within the query_specs_list func)\n",
    "\n",
    "random_idx = random.randint(0, len(name_list) - 1)\n",
    "query_name = name_list[random_idx]\n",
    "spec_list = query_specs_list(query_name)\n",
    "\n",
    "print(spec_list[0][0:500]) #only print the first text in the list in its first 500 letters"
   ]
  },
  {
   "cell_type": "markdown",
   "id": "cd52b2a9-7aa3-4dbc-9d4d-292c7e19e4a4",
   "metadata": {},
   "source": [
    "## Store results in a pickle file\n",
    "\n",
    "The results are stored in a file named \"phone_dataset.pkl\" (Although it's better to rename it as phone_database.pkl, reruning other long-running programs which use this file are very time-consuming, so just keep it as it is)\n",
    "\n",
    "To use this database, another python file only need phonedb_data, name_map, and copy paste the \"query_specs_list\" helper function in an above cell.\n"
   ]
  },
  {
   "cell_type": "code",
   "execution_count": 15,
   "id": "59b0a7b2-e2c4-4715-94e9-a3efa16a95c1",
   "metadata": {},
   "outputs": [],
   "source": [
    "# Store stuff\n",
    "import pickle\n",
    "with open(\"phone_dataset.pkl\", \"wb\") as f:\n",
    "    pickle.dump([phonedb_data, name_map], f)"
   ]
  },
  {
   "cell_type": "code",
   "execution_count": null,
   "id": "73e1c919-f1f8-49a8-b790-85a388615f87",
   "metadata": {},
   "outputs": [],
   "source": []
  },
  {
   "cell_type": "code",
   "execution_count": 17,
   "id": "db69808a-c56e-4f02-b0e0-15962fe7f2fd",
   "metadata": {},
   "outputs": [],
   "source": [
    "# Load stuff\n",
    "with open(\"phone_dataset.pkl\", \"rb\") as f:\n",
    "    pdb = pickle.load(f)\n",
    "    \n",
    "pd, name_map = pdb"
   ]
  },
  {
   "cell_type": "code",
   "execution_count": null,
   "id": "de578e2a-f37c-44a8-917f-e7408735860f",
   "metadata": {},
   "outputs": [],
   "source": []
  },
  {
   "cell_type": "code",
   "execution_count": null,
   "id": "5f49fef8-8dc4-4900-a2ec-6d80a9301fb5",
   "metadata": {},
   "outputs": [],
   "source": []
  },
  {
   "cell_type": "code",
   "execution_count": null,
   "id": "7dcab106-89e6-4a28-a813-a62fa9497830",
   "metadata": {},
   "outputs": [],
   "source": []
  }
 ],
 "metadata": {
  "kernelspec": {
   "display_name": "Python 3 (ipykernel)",
   "language": "python",
   "name": "python3"
  },
  "language_info": {
   "codemirror_mode": {
    "name": "ipython",
    "version": 3
   },
   "file_extension": ".py",
   "mimetype": "text/x-python",
   "name": "python",
   "nbconvert_exporter": "python",
   "pygments_lexer": "ipython3",
   "version": "3.9.12"
  }
 },
 "nbformat": 4,
 "nbformat_minor": 5
}
