{
 "cells": [
  {
   "cell_type": "code",
   "execution_count": null,
   "id": "14b34e6b-7daf-4ee6-9e6f-1412667d6f0a",
   "metadata": {},
   "outputs": [],
   "source": []
  },
  {
   "cell_type": "code",
   "execution_count": 7,
   "id": "b2296291-67e7-4001-b03a-a5024b41f22b",
   "metadata": {
    "tags": []
   },
   "outputs": [],
   "source": [
    "import requests\n",
    "import re\n",
    "from bs4 import BeautifulSoup\n",
    "from tqdm import tqdm"
   ]
  },
  {
   "cell_type": "code",
   "execution_count": 8,
   "id": "f06e0d59-d871-457f-b9e5-5c00a98c1148",
   "metadata": {
    "tags": []
   },
   "outputs": [],
   "source": [
    "%%capture\n",
    "#Scrape the sitemap of phonedb.net\n",
    "response = requests.get('https://phonedb.net/sitemap/')\n",
    "soup = BeautifulSoup(response.content, 'html.parser')"
   ]
  },
  {
   "cell_type": "code",
   "execution_count": 9,
   "id": "4a5b2e03-cfd9-4ffb-8aa9-d26ecef378d9",
   "metadata": {
    "tags": []
   },
   "outputs": [
    {
     "name": "stdout",
     "output_type": "stream",
     "text": [
      "1067\n"
     ]
    }
   ],
   "source": [
    "#regex filter to select particular phone brands\n",
    "brand_filter = \"(iphone.*cn)|(huawei(?!.*pad).*cn)|(samsung.*cn)|(xiaomi.*cn)\"\n",
    "#brand_filter = \"iphone.([8-9]|1[1-4]|x).*cn\"\n",
    "#brand_filter = \"huawei..*cn\"\n",
    "\n",
    "url_locs = soup.find_all(\"loc\", string=re.compile(brand_filter))\n",
    "print(len(url_locs))"
   ]
  },
  {
   "cell_type": "code",
   "execution_count": null,
   "id": "da2c0896-2e1f-422c-9692-ddcdd1b2b3bb",
   "metadata": {},
   "outputs": [],
   "source": []
  },
  {
   "cell_type": "code",
   "execution_count": 10,
   "id": "4521319d-67b4-4a15-9cf4-1522530a6aa0",
   "metadata": {
    "tags": []
   },
   "outputs": [],
   "source": [
    "#check there is no pad device, we only want phone devices\n",
    "for loc in url_locs:\n",
    "    #print(loc.text)\n",
    "    if \"pad\" in loc.text:\n",
    "        print(\"!!!\")\n",
    "    # else:\n",
    "    #     print(loc.text)\n",
    "    "
   ]
  },
  {
   "cell_type": "code",
   "execution_count": 11,
   "id": "12fd1e70-217d-4ec5-8dc8-f7e86f447d8a",
   "metadata": {
    "tags": []
   },
   "outputs": [],
   "source": [
    "#Scrape specific specs pages listed in the sitemap urls \n",
    "import time\n",
    "def scrape(url_locs):\n",
    "    phone_soups = []\n",
    "    for loc in tqdm(url_locs):\n",
    "        #print(loc.text)\n",
    "        url = loc.text + \"&d=detailed_specs#section14\"\n",
    "        phone_soups.append(BeautifulSoup(requests.get(url).content, 'html.parser'))\n",
    "    time.sleep(5)\n",
    "    return phone_soups"
   ]
  },
  {
   "cell_type": "code",
   "execution_count": null,
   "id": "a8266d13-4c1b-4651-9313-db73e1f59344",
   "metadata": {},
   "outputs": [],
   "source": [
    "#divide scrape tasks over different cells to avoid \n",
    "# having to restart from the begining when exceptions \n",
    "# occurred due to internet connection issues  \n",
    "\n",
    "# try multithreaded scraping or running several scrape\n",
    "#  scripts if number of phone models > 2000\n",
    "\n",
    "# crawler speed: about 3min per 100 phone models "
   ]
  },
  {
   "cell_type": "code",
   "execution_count": 12,
   "id": "f573edeb-3fcb-4019-a75f-c17fba684d56",
   "metadata": {
    "tags": []
   },
   "outputs": [],
   "source": [
    "phone_soups = []"
   ]
  },
  {
   "cell_type": "code",
   "execution_count": 13,
   "id": "3fe5d191-bbd4-4025-a91b-292d902f3499",
   "metadata": {
    "tags": []
   },
   "outputs": [
    {
     "name": "stderr",
     "output_type": "stream",
     "text": [
      "100%|██████████| 200/200 [03:14<00:00,  1.03it/s]\n"
     ]
    }
   ],
   "source": [
    "phone_soups += scrape(url_locs[0:200])"
   ]
  },
  {
   "cell_type": "code",
   "execution_count": 14,
   "id": "de2c132c-0cf4-41af-8fea-17e775e6ee42",
   "metadata": {
    "tags": []
   },
   "outputs": [
    {
     "name": "stderr",
     "output_type": "stream",
     "text": [
      "100%|██████████| 200/200 [03:09<00:00,  1.06it/s]\n"
     ]
    }
   ],
   "source": [
    "phone_soups += scrape(url_locs[200:400])"
   ]
  },
  {
   "cell_type": "code",
   "execution_count": 15,
   "id": "655adfd1-1814-4b5c-a2ed-6b7fa5d3298a",
   "metadata": {
    "tags": []
   },
   "outputs": [
    {
     "name": "stderr",
     "output_type": "stream",
     "text": [
      "100%|██████████| 200/200 [03:07<00:00,  1.07it/s]\n"
     ]
    }
   ],
   "source": [
    "phone_soups += scrape(url_locs[400:600])"
   ]
  },
  {
   "cell_type": "code",
   "execution_count": 16,
   "id": "18a258ca-2d99-4bcd-ae7c-64911f553fac",
   "metadata": {
    "tags": []
   },
   "outputs": [
    {
     "name": "stderr",
     "output_type": "stream",
     "text": [
      "100%|██████████| 200/200 [03:07<00:00,  1.07it/s]\n"
     ]
    }
   ],
   "source": [
    "phone_soups += scrape(url_locs[600:800])"
   ]
  },
  {
   "cell_type": "code",
   "execution_count": 17,
   "id": "d5f2885a-6cf0-474e-9948-b8ca7834a755",
   "metadata": {
    "tags": []
   },
   "outputs": [
    {
     "name": "stderr",
     "output_type": "stream",
     "text": [
      "100%|██████████| 200/200 [03:05<00:00,  1.08it/s]\n"
     ]
    }
   ],
   "source": [
    "phone_soups += scrape(url_locs[800:1000])"
   ]
  },
  {
   "cell_type": "code",
   "execution_count": 18,
   "id": "9b45674b-e1b8-4326-922e-b8eef2dad721",
   "metadata": {
    "tags": []
   },
   "outputs": [
    {
     "name": "stderr",
     "output_type": "stream",
     "text": [
      "100%|██████████| 67/67 [01:01<00:00,  1.09it/s]\n"
     ]
    }
   ],
   "source": [
    "phone_soups += scrape(url_locs[1000:])"
   ]
  },
  {
   "cell_type": "code",
   "execution_count": null,
   "id": "dfcfdae9-4b85-4831-a893-3423e05d3d7a",
   "metadata": {},
   "outputs": [],
   "source": []
  },
  {
   "cell_type": "code",
   "execution_count": 19,
   "id": "7782e8ae-f1a2-4097-98e9-8014afbd20fe",
   "metadata": {
    "tags": []
   },
   "outputs": [
    {
     "name": "stdout",
     "output_type": "stream",
     "text": [
      "Number of phone models:  1067\n"
     ]
    }
   ],
   "source": [
    "print(\"Number of phone models: \", len(phone_soups))"
   ]
  },
  {
   "cell_type": "code",
   "execution_count": null,
   "id": "f2fa6239-09e1-405a-8b4a-1a09ad72af2c",
   "metadata": {},
   "outputs": [],
   "source": []
  },
  {
   "cell_type": "code",
   "execution_count": null,
   "id": "d107b800-b1da-4b7f-841b-5ce2a9851e9e",
   "metadata": {},
   "outputs": [],
   "source": []
  },
  {
   "cell_type": "code",
   "execution_count": 20,
   "id": "1c270aea-d785-4574-b6ed-b64493734bd7",
   "metadata": {
    "tags": []
   },
   "outputs": [],
   "source": [
    "#parse html page and convert it to structured text\n",
    "def parse_phonedb_html(phone_soup): \n",
    "    table_soup = phone_soup.find(\"table\")\n",
    "    table = []\n",
    "    for trs in table_soup.find_all(\"tr\"):\n",
    "        tds = trs.find_all(\"td\")\n",
    "        if len(tds) == 1:\n",
    "            col = tds[0].text.replace(\"\\n\", \"\").replace(\"\\xa0\", \"\")\n",
    "            if re.search(\"Brief.*\",col):\n",
    "                table.append([\"Brief Info\", col.replace(\"Brief\", \"\")])\n",
    "        if len(tds) == 2:\n",
    "            label_col = tds[0].text.replace(\"\\n\", \"\").replace(\"\\xa0\", \"\").replace(\":\", \"\")\n",
    "            field_col = tds[1].text.replace(\"\\n\", \"\").replace(\"\\xa0\", \"\")\n",
    "            #print(label_col, \": \", field_col)\n",
    "            if re.search(\"^[^a-zA-Z]*$\", label_col):\n",
    "                #print(\"*****\")\n",
    "                table[-1][1] += \", \" + field_col\n",
    "            else:\n",
    "                table.append([label_col, field_col])\n",
    "    return table\n",
    "\n",
    "def table_to_text(table):\n",
    "    text = \"\"\n",
    "    for row in table:\n",
    "        text += row[0] + \": \" + row[1] + '\\n'\n",
    "    return text\n",
    "\n",
    "# for row in parse_phonedb_html(phone_soups[2]):\n",
    "#     print(row[0], \": \", row[1])"
   ]
  },
  {
   "cell_type": "code",
   "execution_count": 21,
   "id": "1f857047-9d6f-46a0-b90f-8666a7230b42",
   "metadata": {
    "tags": []
   },
   "outputs": [],
   "source": [
    "#build dataset as dict\n",
    "phonedb_dataset = {}\n",
    "\n",
    "for phone_soup in phone_soups:\n",
    "    table = parse_phonedb_html(phone_soup)\n",
    "    model_name = table[0][1] + \" \" + table[1][1]\n",
    "    phonedb_dataset[model_name] = [table_to_text(table).replace(\"\\n\", \" \\\\n \")]\n",
    "\n",
    "#print(\"\\n\".join(phonedb_dataset.keys()))\n",
    "#print(phonedb_dataset[list(phonedb_dataset.keys())[1]][0])"
   ]
  },
  {
   "cell_type": "code",
   "execution_count": 22,
   "id": "be7dba7c-f540-4aa0-9adb-4c5846fd1435",
   "metadata": {
    "tags": []
   },
   "outputs": [],
   "source": [
    "#print(phonedb_dataset)"
   ]
  },
  {
   "cell_type": "code",
   "execution_count": 23,
   "id": "77f6560a-9482-4725-a527-c594da315830",
   "metadata": {
    "tags": []
   },
   "outputs": [],
   "source": [
    "#convert to json\n",
    "import json\n",
    "with open('phonedb_dataset.json', 'w') as f:\n",
    "    json.dump(phonedb_dataset, f)"
   ]
  },
  {
   "cell_type": "code",
   "execution_count": null,
   "id": "1d1d6c87-d2ab-4662-88b3-acb71c9fb7b5",
   "metadata": {},
   "outputs": [],
   "source": []
  }
 ],
 "metadata": {
  "kernelspec": {
   "display_name": "Python 3 (ipykernel)",
   "language": "python",
   "name": "python3"
  },
  "language_info": {
   "codemirror_mode": {
    "name": "ipython",
    "version": 3
   },
   "file_extension": ".py",
   "mimetype": "text/x-python",
   "name": "python",
   "nbconvert_exporter": "python",
   "pygments_lexer": "ipython3",
   "version": "3.9.12"
  }
 },
 "nbformat": 4,
 "nbformat_minor": 5
}
