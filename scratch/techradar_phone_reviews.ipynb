{
 "cells": [
  {
   "cell_type": "code",
   "execution_count": 308,
   "id": "b2296291-67e7-4001-b03a-a5024b41f22b",
   "metadata": {
    "tags": []
   },
   "outputs": [],
   "source": [
    "import requests\n",
    "import re\n",
    "from bs4 import BeautifulSoup\n",
    "from tqdm import tqdm"
   ]
  },
  {
   "cell_type": "code",
   "execution_count": 309,
   "id": "b64c1f91",
   "metadata": {},
   "outputs": [],
   "source": [
    "response = requests.get(\"https://www.techradar.com/reviews/samsung-galaxy-s22-plus-review\")\n",
    "\n",
    "soup = BeautifulSoup(response.content, 'html.parser')"
   ]
  },
  {
   "cell_type": "code",
   "execution_count": 310,
   "id": "ec4df434",
   "metadata": {},
   "outputs": [
    {
     "name": "stdout",
     "output_type": "stream",
     "text": [
      "Samsung Galaxy S22 Plus review\n",
      "A middle child that’s destined to be forgotten\n",
      "\n"
     ]
    }
   ],
   "source": [
    "print(soup.find(\"h1\").get_text(),\n",
    "soup.find(\"h2\").get_text(),\n",
    "sep=\"\\n\")"
   ]
  },
  {
   "cell_type": "code",
   "execution_count": 311,
   "id": "a10112f1",
   "metadata": {},
   "outputs": [
    {
     "name": "stdout",
     "output_type": "stream",
     "text": [
      "Rating: 3 out of 5 stars\n"
     ]
    }
   ],
   "source": [
    "text = str(soup.find(\"span\",class_=\"chunk rating\"))\n",
    "match = re.search(r'Rating: (\\d+) out of (\\d+) stars', text)\n",
    "if match:\n",
    "    rating = match.group(0)\n",
    "    print(rating)"
   ]
  },
  {
   "cell_type": "code",
   "execution_count": 323,
   "id": "7eb62b9c",
   "metadata": {},
   "outputs": [
    {
     "data": {
      "text/plain": [
       "'Poco is back with another hot deal. The Poco X3 NFC comes with a few features you might expect of a pricier Android handset, such as decent gaming performance thanks to its Snapdragon G-series processor and a 120Hz screen, with excellent battery life sealing the deal. This is a great option for those on a budget.'"
      ]
     },
     "execution_count": 323,
     "metadata": {},
     "output_type": "execute_result"
    }
   ],
   "source": [
    "soup.find(\"div\", class_=re.compile(\"pretty-verdict__verdict\")).findChild('p').get_text()"
   ]
  },
  {
   "cell_type": "code",
   "execution_count": 328,
   "id": "a2ed6148",
   "metadata": {},
   "outputs": [
    {
     "name": "stdout",
     "output_type": "stream",
     "text": [
      "Poco is back with another hot deal. The Poco X3 NFC comes with a few features you might expect of a pricier Android handset, such as decent gaming performance thanks to its Snapdragon G-series processor and a 120Hz screen, with excellent battery life sealing the deal. This is a great option for those on a budget.\n",
      "\n",
      "Pros\n",
      "\n",
      "+Strong gaming performance+Excellent battery life+Great 120Hz wide color gamut screen\n",
      "\n",
      "Cons\n",
      "\n",
      "-Struggling camera-Sometimes erratic backlight-It’s quite large, a little heavy\n"
     ]
    }
   ],
   "source": [
    "for i in soup.find_all(\"div\", class_=re.compile(\"pretty-verdict__\")):\n",
    "    for j in i.childGenerator():\n",
    "        #print(j)\n",
    "        if j.name in ['p','h4', 'ul', 'li']:\n",
    "            print(j.get_text())"
   ]
  },
  {
   "cell_type": "code",
   "execution_count": 314,
   "id": "8e1f7e79",
   "metadata": {},
   "outputs": [],
   "source": [
    "article_body = soup.find(\"div\", id=\"article-body\")"
   ]
  },
  {
   "cell_type": "code",
   "execution_count": 315,
   "id": "c5363d9e",
   "metadata": {},
   "outputs": [
    {
     "name": "stdout",
     "output_type": "stream",
     "text": [
      "div\n"
     ]
    }
   ],
   "source": [
    "print(article_body.name)"
   ]
  },
  {
   "cell_type": "code",
   "execution_count": 316,
   "id": "e2354593",
   "metadata": {},
   "outputs": [
    {
     "name": "stdout",
     "output_type": "stream",
     "text": [
      "TWO-MINUTE REVIEW: \n",
      "Before getting to to the Samsung Galaxy S22 Plus it's worth noting that we now have a Samsung Galaxy S23 Plus review, as the S22 Plus's successor has been unveiled. You might also want to check out our Samsung Galaxy S23 review and Samsung Galaxy S23 Ultra review. So the S22 Plus is no longer one of Samsung's latest flagships. That doesn't mean it's not worth considering though.\n",
      "That said, of the three members of Samsung’s 2022 flagship line, the Galaxy S22 Plus feels like the one that most people will forget about.\n",
      "The Samsung Galaxy S22 is the one that’s easy to recommend: it’s small enough to fit comfortably in your hand, and has a low price that won’t immediately alienate buyers. And then there’s the S22 Ultra with its high price but its S Pen stylus, premium design and plentiful rear cameras which will interest those looking for a super-powerful handset.\n",
      "Between those two phones, it’s harder to get excited for the Galaxy S22 Plus, the awkward middle child in Samsung’s 2022 family. It mostly has the same specs as the S22, and a similar design, but with a bigger screen and battery. Oh, and its price is a significant step up, too.\n",
      "Like Samsung’s other S22 mobiles, the Galaxy S22 Plus remains one of the best phones in many different fields, but its high price and lack of upgrades over the S21 Plus make it look less appealing given the competitive actions of most rivals. Compared to the Xiaomi 12 Pro, OnePlus 10 Pro or Realme GT 2 Pro, or even affordable and capable alternatives like the Moto G200, Realme GT and OnePlus Nord 2, this is a really tough sell.\n",
      "There are certainly some points in its favor. The Galaxy S22 Plus is great for taking portrait shots, and the camera app’s Portrait mode is fantastic both at the artificial background blur and for the range of effects and filters you can utilize. The camera app is great, and Single Take (which basically picks the best picture from a burst) remains a huge selling point for the company’s phones.\n",
      "We also have to commend Samsung for being one of the few phone companies putting out vibrantly colored phones - we tested a pink S22 Plus, and other options include green, blue and violet. How many companies are putting out pink phones these days?\n",
      "And in many other areas, this is a powerful phone, with a top-end chipset, decent battery life and great main camera. \n",
      "But while in many ways it's one of the best Samsung phones, it’s not a perfect phone, and we have quite a few gripes, too. With a flat edge, it’s not particularly comfortable to hold, and OneUI remains a sluggish-feeling software that’s slightly slower than other Android forks to use. Its display quality, charging speeds, and build quality are all decidedly average, too.\n",
      "Plus, it’s exceedingly expensive - we shouldn’t be calling a phone that costs this much ‘average’ in any way, and the overall use experience of this mobile is more comparable to mid-rangers than similarly priced Android or iPhone rivals you might be considering instead.\n",
      "With a few discounts this phone might prove popular, but at its current price, it’s hard to recommend.\n",
      "If, however, you're looking for the perfect Samsung Galaxy S22 Plus audio partner, you may want to check out our Samsung Galaxy Buds 2 Pro review.\n",
      "\n"
     ]
    }
   ],
   "source": [
    "article_body = soup.find(\"div\", id=\"article-body\")\n",
    "first_h2 = article_body.find('h2')\n",
    "second_h2 = first_h2.find_next('h2')\n",
    "content = 'TWO-MINUTE REVIEW: \\n'\n",
    "for element in first_h2.next_siblings: # 遍历第一个h2标签的兄弟节点\n",
    "    if element == second_h2: # 如果遍历到第二个h2标签，就退出循环\n",
    "        break\n",
    "    if element.name == \"p\":\n",
    "        content+=element.get_text()+\"\\n\"\n",
    "    # if element.name: # 如果节点是标签\n",
    "    #     content += str(element) # 将标签添加到内容中\n",
    "    # else: # 如果节点是文本\n",
    "    #     content += element.strip() # 将文本添加到内容中\n",
    "\n",
    "print(content)"
   ]
  },
  {
   "cell_type": "code",
   "execution_count": 317,
   "id": "d17a6048",
   "metadata": {},
   "outputs": [
    {
     "name": "stderr",
     "output_type": "stream",
     "text": [
      "100%|██████████| 9/9 [00:03<00:00,  2.83it/s]\n"
     ]
    }
   ],
   "source": [
    "import requests\n",
    "from bs4 import BeautifulSoup\n",
    "import re\n",
    "\n",
    "ori_links = []\n",
    "\n",
    "for i in tqdm(range(1,10)):\n",
    "    response = requests.get(\"https://www.techradar.com/reviews/phones/mobile-phones/page/{}\".format(i))\n",
    "    soup = BeautifulSoup(response.content, 'html.parser')\n",
    "    for link in soup.find_all('a', href=re.compile(r'^https://www.techradar.com/reviews/')):\n",
    "        ori_links.append(link.get('href'))\n",
    "#print(\"\\n\".join([ i for i in links]))\n",
    "links = []\n",
    "for i in ori_links:\n",
    "    if \"https://www.techradar.com/reviews/phones/mobile-phones\" not in i and \"https://www.techradar.com/reviews/archive\" not in i:\n",
    "        links.append(i)\n",
    "\n"
   ]
  },
  {
   "cell_type": "code",
   "execution_count": 318,
   "id": "89cdd491",
   "metadata": {},
   "outputs": [
    {
     "name": "stdout",
     "output_type": "stream",
     "text": [
      "Totel Links 90\n"
     ]
    }
   ],
   "source": [
    "print(\"Totel Links\",len(links))"
   ]
  },
  {
   "cell_type": "code",
   "execution_count": 352,
   "id": "22df60fa",
   "metadata": {},
   "outputs": [
    {
     "name": "stdout",
     "output_type": "stream",
     "text": [
      "Totel Links 90\n"
     ]
    },
    {
     "name": "stderr",
     "output_type": "stream",
     "text": [
      "100%|██████████| 90/90 [00:14<00:00,  6.02it/s]"
     ]
    },
    {
     "name": "stdout",
     "output_type": "stream",
     "text": [
      "success 90\n"
     ]
    },
    {
     "name": "stderr",
     "output_type": "stream",
     "text": [
      "\n"
     ]
    }
   ],
   "source": [
    "\n",
    "print(\"Totel Links\",len(links))\n",
    "\n",
    "reviews = {}\n",
    "\n",
    "for i in tqdm(links):\n",
    "    response = requests.get(i)\n",
    "    soup = BeautifulSoup(response.content, 'html.parser')\n",
    "    title = soup.find(\"h1\").get_text().strip()\n",
    "    subtitle = soup.find(\"h2\").get_text().strip()\n",
    "\n",
    "    match = re.search(r'Rating: (\\d+) out of (\\d+) stars', str(soup.find(\"span\",class_=\"chunk rating\")))\n",
    "    if match:\n",
    "        rating = match.group(0)\n",
    "    else:\n",
    "        rating = \"\"\n",
    "    \n",
    "    #summary = soup.find(\"div\", class_=re.compile(\"pretty-verdict__verdict\")).findChild('p').get_text()\n",
    "    #pros_cons = \"\\n\".join([ i.get_text().strip() for i in soup.find_all(\"div\", class_=re.compile(\"pretty-verdict__\"))[1:]])\n",
    "    summary = \"\"\n",
    "    for each_sum in soup.find_all(\"div\", class_=re.compile(\"pretty-verdict__\")):\n",
    "        for each_p in each_sum.childGenerator():\n",
    "            #print(j)\n",
    "            if each_p.name in ['p','h4', 'ul', 'li']:\n",
    "                summary+=each_p.get_text()+\"\\n\"\n",
    "    #print(summary)\n",
    "    content = \"\"\n",
    "    try:\n",
    "        article_body = soup.find(\"div\", id=\"article-body\")\n",
    "        first_h2 = article_body.find('h2')\n",
    "        second_h2 = first_h2.find_next('h2')\n",
    "        second_h3 = first_h2.find_next('h3')\n",
    "        #content = 'TWO-MINUTE REVIEW: \\n'\n",
    "        for element in first_h2.next_siblings: # 遍历第一个h2标签的兄弟节点\n",
    "            if element == second_h2 or element == second_h3: # 如果遍历到第二个h2标签，就退出循环\n",
    "                break\n",
    "            if element.name == \"p\":\n",
    "                content+=element.get_text()+\"\\n\"\n",
    "            #content+=element.get_text()+\"\\n\"\n",
    "    except Exception as e:\n",
    "        print(i)\n",
    "    \n",
    "    reviews[title+\": \"+subtitle] = {\n",
    "        \"rating\": rating,\n",
    "        \"summary_pros_cons\": summary,\n",
    "        \"review\" : content\n",
    "    }\n",
    "\n",
    "\n",
    "print(\"success\", len(reviews.keys()))\n",
    "        "
   ]
  },
  {
   "cell_type": "code",
   "execution_count": 353,
   "id": "fb3d458e",
   "metadata": {},
   "outputs": [
    {
     "name": "stdout",
     "output_type": "stream",
     "text": [
      "dict_keys(['Nanoleaf Essentials A19 E27 smart bulb review: affordable smart lighting: A smart-home essential to take on Philips Hue', 'Motorola Edge 40 Pro review: A better Pixel 7 Pro?: A confident flagship with very few flaws.', 'Xiaomi 13 review: a sleek and sophisticated iPhone imitator: The Xiaomi 13 makes (almost) all the right moves', 'Hands on: Oppo Find X6 Pro – Forget the oddball looks, this is a charging demon: For those who like their camera arrays big and their charging fast', \"Hands on: Samsung Galaxy A54 review – more awesome?: Samsung's new mid-range champ?\", \"Oppo Find N2 Flip review: the Z Flip 4's foil: A new challenger steps into the fold\", \"Hands on: Xiaomi 13 Lite review – the Civi's new suit: A Civi by any other name...\", 'Ulefone Power Armor 18T review: Not anything like the Power Armor 16 or 17 Pro', 'Unihertz Tank review: An oddly accurate name for a rugged phone', 'Hands on: Honor Magic 5 Pro review – a versatile flagship with a potentially world-beating camera: Honor’s latest flagship is a promising beast', 'Hands on: Xiaomi 13 Pro review – a camera-led flagship for the world: Top-shelf performance and a huge Leica camera go global', 'Saints Row review: Commitment issues', 'OnePlus 11 5G review: a scrappy contender for those in the know: Maybe a price cut is all you need to be a flagship killer', 'Doogee V30 review: A premium rugged phone for adventurers', 'Samsung Galaxy S22 Ultra review: The Samsung Galaxy S22 Ultra enters the Note zone', 'Samsung Galaxy S22 Plus review: A middle child that’s destined to be forgotten', 'Samsung Galaxy S22 review: a small-form wonder: Small, brimming with upgrades, and eminently useful', 'Scuf Reflex Pro review - Highly customizable but costly: Pimp my pad', 'Ulefone Power Armor 16 Pro review: An inexpensive rugged phone with some unique options', \"iPhone X review: The rebooted iPhone we'd been waiting for\", 'Samsung Galaxy Z Flip 4 review: Samsung tightens its grip on the foldable clamshell crown', 'Nothing Phone 1 review: Made to start a conversation', 'Samsung Galaxy SmartTag Plus review: Convenient tracking for Samsung owners', 'Samsung Galaxy A53 review: Attractive but slow', 'Asus Zenfone 9 review: A small phone with a big price', 'Doogee S96 GT review: A new flagship rugged design from Doogee', 'Blackview BV7100 review: An affordable heavy metal mobile', 'Motorola Moto G62: Budget 5G and a smooth screen', \"Lower price, lower temperature? Sony Xperia 5 IV review: Can Sony's compact flagship for 2022 keep its cool in the face of stiff competition?\", 'Doogee S89 Pro review: A Batman phone for the darkest knights', 'Motorola Razr 2022: Honing its skills', 'AGM H5 Pro review: A phone designed to annoy everyone around you', 'Google Pixel 7 Pro review: The Google Pixel 7 Pro is simply a brilliant phone at everything it does', 'Google Pixel 7 review: Great-value Google smarts', 'iPhone 14 Pro Max review: The biggest and best of everything in an iPhone', 'iPhone 14 Pro review: This may be the perfect iPhone', 'iPhone 13 mini review: Improvements all around in a miniature form', 'iPhone 14 Plus review: A larger screen and battery without the Pro price tag', 'A surprise new iPhone 14 and Galaxy S22 rival – Motorola Edge 30 Ultra review: Moto shows Apple and Samsung how it’s done', 'Motorola Moto G82: An affordable blend of sought after features', 'This Android phone tries to follow the Samsung Galaxy S22 Ultra but with one problem – our Vivo X80 Pro review: A premium phone that can’t catch a break', 'Sony Xperia 1 IV review: Sony Xperia 1 IV is great - if you can see past some flaws', \"Asus ROG Phone 6D Ultimate: MediaTek's true gaming debut\", 'iPhone 12 mini review: The iPhone 12 mini is a dainty (yet powerful) delight', 'iPhone 12 review: The iPhone 12 is still a solid phone taking great photos', 'iPhone 13 Pro review: Minor upgrades, but a great-looking package', 'iPhone 13 review: Everything on the iPhone 13 is just a bit better', 'Google Pixel 5a: Google Pixel 5a is a solid mid-range camera phone', 'Xiaomi Poco X3 Pro review: The Xiaomi Poco X3 Pro is a budget gaming monster phone', 'Samsung Galaxy Z Flip 3 review: The Samsung Galaxy Z Flip 3 is a foldable for the mainstream', 'Sony Xperia 10 IV review: Another solid, affordable Xperia from Sony', 'Honor 70 review: A premium phone with a budget price tag', \"Google Pixel 4a review: Google's impressive single-camera smartphone photography arrives in an affordable, one-hand-friendly design\", 'Google Pixel 6 Pro review: The first top-tier Google Pixel phone', 'Motorola Edge 30 Pro: Premium performance at a mid-range price point', \"Hands on: Xiaomi 12s Ultra: Xiaomi's mightiest flagship marks a breakthrough in camera technology\", 'Hands on: Motorola Edge (2022): Moto aims for the middle', 'OnePlus Nord review: The OnePlus Nord is an emphatic return to the mid-range', 'Samsung Galaxy Z Fold 3 review: The best foldable phone – so far', 'iPhone 12 Pro: The iPhone 12 Pro is still a top iPhone with great specs', 'iPhone 12 Pro Max review: Still one of the best big iPhones on the market', 'Xiaomi Poco F3 review: The Poco F3 puts on an awesome display', 'Google Pixel 6a review: A budget blower with a big drawback', 'Xiaomi Poco X4 Pro 5G review: Not the Poco you know', 'Xiaomi Poco M4 Pro 5G review: An appealing budget phone with 5G', 'Xiaomi 12 review: Small body, high price', 'Xiaomi 11T Pro review: A decent mid-ranger with a better sibling', 'Samsung Galaxy S20 Plus review: The Samsung Galaxy S20 Plus is the best of its siblings', 'OnePlus Nord 2 review: The latest cheaper handset from OnePlus', \"Samsung Galaxy S21 review: Not the best of the best, but Samsung's S21 is fantastically put together\", 'Google Pixel 6 review: The Google Pixel 6 redefines phone photo perfection', \"Asus ROG Phone 6 review: Supreme gaming, but it'll cost you\", \"Back 4 Blood review: Back 4 Blood is well worth the wait – but it's not Left 4 Dead 3\", 'Xiaomi Redmi Note 10 5G review: The Xiaomi Redmi Note 10 5G is classy but compromised', 'Samsung Galaxy A52 5G review: A lot to like, but hard to love', 'Call of Duty: Warzone review: Call of Duty: Warzone is a smashing battle royale game', 'Xiaomi Black Shark 5 Pro review: Great for competitive gamers, but with a few rough edges', 'Nubia Red Magic 7 review: Gaming wins meet UI lols and battery woes', 'OnePlus Nord N20 5G review: $300 for everything but a decent camera', 'Google Pixel 5 review: The Google Pixel 5 is an affordable flagship with some compromises', 'Xiaomi Redmi Note 10 Pro review: The Xiaomi Redmi Note 10 Pro is a top phone at a low price', 'Doro 6880 phone review: The Doro 6880 is just one of three new phones aimed at the over 65’s', 'Realme 9 5G review: Elegance and 5G for cheap', 'Motorola One Macro review: Can a focus on the little things lift this Moto above the rest?', 'Oppo A5 2020 review: Add the Oppo A5 2020 to the list of best budget phones', 'Moto G50 review: Dependable if unexciting', 'Realme 8 5G review: 5G on a budget', 'Xiaomi Redmi Note 9S review: A new champion budget smartphone', 'Moto G9 Power review: One of the best phones on a budget', 'Xiaomi Poco X3 NFC review: A lot of phone for not very much cash'])\n"
     ]
    }
   ],
   "source": [
    "print(reviews.keys())"
   ]
  },
  {
   "cell_type": "code",
   "execution_count": 354,
   "id": "77f6560a-9482-4725-a527-c594da315830",
   "metadata": {
    "tags": []
   },
   "outputs": [],
   "source": [
    "#convert to json\n",
    "import json\n",
    "with open('techradar_phone_reviews.json', 'w') as f:\n",
    "    json.dump(reviews, f)"
   ]
  }
 ],
 "metadata": {
  "kernelspec": {
   "display_name": "Python 3 (ipykernel)",
   "language": "python",
   "name": "python3"
  },
  "language_info": {
   "codemirror_mode": {
    "name": "ipython",
    "version": 3
   },
   "file_extension": ".py",
   "mimetype": "text/x-python",
   "name": "python",
   "nbconvert_exporter": "python",
   "pygments_lexer": "ipython3",
   "version": "3.11.3"
  }
 },
 "nbformat": 4,
 "nbformat_minor": 5
}
