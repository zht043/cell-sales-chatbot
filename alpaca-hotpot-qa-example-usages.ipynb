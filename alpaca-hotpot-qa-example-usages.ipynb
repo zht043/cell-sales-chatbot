{
 "cells": [
  {
   "cell_type": "code",
   "execution_count": 1,
   "id": "222facc6-d05a-4b4d-b91d-8d28f25c0a60",
   "metadata": {},
   "outputs": [
    {
     "name": "stdout",
     "output_type": "stream",
     "text": [
      "\n",
      "===================================BUG REPORT===================================\n",
      "Welcome to bitsandbytes. For bug reports, please run\n",
      "\n",
      "python -m bitsandbytes\n",
      "\n",
      " and submit this information together with your error trace to: https://github.com/TimDettmers/bitsandbytes/issues\n",
      "================================================================================\n",
      "bin /opt/conda/lib/python3.10/site-packages/bitsandbytes/libbitsandbytes_cpu.so\n",
      "CUDA_SETUP: WARNING! libcudart.so not found in any environmental path. Searching in backup paths...\n",
      "CUDA SETUP: Highest compute capability among GPUs detected: 8.6\n",
      "CUDA SETUP: Detected CUDA version 116\n",
      "CUDA SETUP: Loading binary /opt/conda/lib/python3.10/site-packages/bitsandbytes/libbitsandbytes_cpu.so...\n"
     ]
    },
    {
     "name": "stderr",
     "output_type": "stream",
     "text": [
      "/opt/conda/lib/python3.10/site-packages/bitsandbytes/cextension.py:33: UserWarning: The installed version of bitsandbytes was compiled without GPU support. 8-bit optimizers, 8-bit multiplication, and GPU quantization are unavailable.\n",
      "  warn(\"The installed version of bitsandbytes was compiled without GPU support. \"\n",
      "/opt/conda/lib/python3.10/site-packages/bitsandbytes/cuda_setup/main.py:145: UserWarning: WARNING: The following directories listed in your path were found to be non-existent: {PosixPath('/usr/local/nvidia/lib'), PosixPath('/usr/local/nvidia/lib64')}\n",
      "  warn(msg)\n",
      "/opt/conda/lib/python3.10/site-packages/bitsandbytes/cuda_setup/main.py:145: UserWarning: /usr/local/nvidia/lib:/usr/local/nvidia/lib64 did not contain ['libcudart.so', 'libcudart.so.11.0', 'libcudart.so.12.0'] as expected! Searching further paths...\n",
      "  warn(msg)\n",
      "/opt/conda/lib/python3.10/site-packages/bitsandbytes/cuda_setup/main.py:145: UserWarning: WARNING: The following directories listed in your path were found to be non-existent: {PosixPath('cell-sales-chatbot/90abcfb8-8e0d-48cf-8fd3-4c388ec01138')}\n",
      "  warn(msg)\n",
      "/opt/conda/lib/python3.10/site-packages/bitsandbytes/cuda_setup/main.py:145: UserWarning: WARNING: The following directories listed in your path were found to be non-existent: {PosixPath('//matplotlib_inline.backend_inline'), PosixPath('module')}\n",
      "  warn(msg)\n",
      "/opt/conda/lib/python3.10/site-packages/bitsandbytes/cuda_setup/main.py:145: UserWarning: WARNING: The following directories listed in your path were found to be non-existent: {PosixPath('/usr/local/cuda/lib64')}\n",
      "  warn(msg)\n",
      "/opt/conda/lib/python3.10/site-packages/bitsandbytes/cuda_setup/main.py:145: UserWarning: WARNING: No libcudart.so found! Install CUDA or the cudatoolkit package (anaconda)!\n",
      "  warn(msg)\n"
     ]
    }
   ],
   "source": [
    "import torch\n",
    "import alpaca_hotpot_qa\n",
    "import transformers\n",
    "from peft import PeftModel\n",
    "from transformers import GenerationConfig, LlamaForCausalLM, LlamaTokenizer\n",
    "\n"
   ]
  },
  {
   "cell_type": "code",
   "execution_count": 2,
   "id": "049bbece-ff9f-458a-94fa-0ca12da8898f",
   "metadata": {},
   "outputs": [],
   "source": [
    "if torch.cuda.is_available():\n",
    "    device = \"cuda\""
   ]
  },
  {
   "cell_type": "code",
   "execution_count": 3,
   "id": "8786402b-135e-491c-bfb4-3cafde7b439e",
   "metadata": {},
   "outputs": [
    {
     "name": "stderr",
     "output_type": "stream",
     "text": [
      "The tokenizer class you load from this checkpoint is not the same type as the class this function is called from. It may result in unexpected tokenization. \n",
      "The tokenizer class you load from this checkpoint is 'LLaMATokenizer'. \n",
      "The class this function is called from is 'LlamaTokenizer'.\n"
     ]
    },
    {
     "data": {
      "application/vnd.jupyter.widget-view+json": {
       "model_id": "bef21a5d2d0546dc90ebe1d278c22bdf",
       "version_major": 2,
       "version_minor": 0
      },
      "text/plain": [
       "Loading checkpoint shards:   0%|          | 0/33 [00:00<?, ?it/s]"
      ]
     },
     "metadata": {},
     "output_type": "display_data"
    }
   ],
   "source": [
    "load_8bit = False\n",
    "base_model = 'decapoda-research/llama-7b-hf'\n",
    "lora_weights = 'tloen/alpaca-lora-7b'\n",
    "\n",
    "tokenizer = LlamaTokenizer.from_pretrained(base_model)\n",
    "if device == \"cuda\":\n",
    "    alp_model = LlamaForCausalLM.from_pretrained(base_model, load_in_8bit=load_8bit,\n",
    "                    torch_dtype=torch.float16, device_map=\"auto\")"
   ]
  },
  {
   "cell_type": "code",
   "execution_count": 4,
   "id": "7d640cce-fccf-4cfd-90c7-8a1052f071f5",
   "metadata": {},
   "outputs": [],
   "source": [
    "#if can't find xxx.json error occurred, check the lora_weights variable, trying using full system path\n",
    "\n",
    "if device == \"cuda\":\n",
    "    alp_model = PeftModel.from_pretrained(alp_model, lora_weights, torch_dtype=torch.float16)\n",
    "\n",
    "# unwind broken decapoda-research config\n",
    "alp_model.config.pad_token_id = tokenizer.pad_token_id = 0  # unk\n",
    "alp_model.config.bos_token_id = 1\n",
    "alp_model.config.eos_token_id = 2\n",
    "\n",
    "if not load_8bit:\n",
    "    alp_model.half()  # seems to fix bugs for some users.\n",
    "\n",
    "alp_model.eval()\n",
    "if torch.__version__ >= \"2\" and sys.platform != \"win32\":\n",
    "    alp_model = torch.compile(alp_model)"
   ]
  },
  {
   "cell_type": "code",
   "execution_count": null,
   "id": "acf9c8c9-63f6-4156-a530-7b2cee2ba390",
   "metadata": {},
   "outputs": [],
   "source": []
  },
  {
   "cell_type": "code",
   "execution_count": 5,
   "id": "85afa5d8-fc05-496c-a9da-a161b40e6e2d",
   "metadata": {},
   "outputs": [],
   "source": [
    "import pickle\n",
    "#load phonedb data\n",
    "with open(\"phone_dataset.pkl\", \"rb\") as f:\n",
    "    pdb = pickle.load(f)\n",
    "phonedb_data, name_map = pdb"
   ]
  },
  {
   "cell_type": "code",
   "execution_count": null,
   "id": "1586db8d-c249-48bd-9374-3833720d5984",
   "metadata": {},
   "outputs": [],
   "source": []
  },
  {
   "cell_type": "code",
   "execution_count": null,
   "id": "856b59ba-379f-4ceb-9758-48e870b9dd83",
   "metadata": {},
   "outputs": [],
   "source": []
  },
  {
   "cell_type": "code",
   "execution_count": 6,
   "id": "a7e49839-b1da-41e7-b948-395fafaa8911",
   "metadata": {},
   "outputs": [],
   "source": [
    "from alpaca_hotpot_qa import AlpacaHotPotQA"
   ]
  },
  {
   "cell_type": "code",
   "execution_count": 7,
   "id": "14750bfd-e5b6-4b45-aae8-ab22b92b797d",
   "metadata": {},
   "outputs": [],
   "source": [
    "alphot_qa_inference = AlpacaHotPotQA(device, alp_model, tokenizer, phonedb_data, name_map)"
   ]
  },
  {
   "cell_type": "code",
   "execution_count": 8,
   "id": "23ae8e57-9675-424a-8ae0-828250c1baa3",
   "metadata": {},
   "outputs": [
    {
     "name": "stdout",
     "output_type": "stream",
     "text": [
      "------------------------------------------------\n",
      "Step 1: Alpaca extract name tokens\n",
      "\n",
      ">>>>> Instruction:\n",
      " Ignore the input. Extract all phone model names from the input sentence.     Append and prepend '%%%' symbols to each phone model name.\n",
      "\n",
      ">>>>> Input:\n",
      " Can you list the battery life for the Apple iPhone 13, Xiaomi Redmi Note 9 Pro,and Huawei P30 Pro?\n",
      "\n",
      "Generating ......\n",
      "\n",
      "<<<<< Output:\n",
      " %%Apple iPhone 13%%\n",
      "%%Xiaomi Redmi Note 9 Pro%%\n",
      "%%Huawei P30 Pro%%\n",
      "\n",
      "------------------------------------------------\n",
      "Using regex to tokenize:\n",
      "['Apple iPhone 13', 'Xiaomi Redmi Note 9 Pro', 'Huawei P30 Pro']\n",
      "------------------------------------------------\n",
      "\n",
      "Step 2: Zero-shot BART classifier extract name keys\n",
      "\n",
      "Extracted Model Name:  iPhone 13\n",
      "Extracted Model Name:  Xiaomi Redmi Note 9 Pro\n",
      "Extracted Model Name:  Huawei P30 Pro\n",
      "------------------------------------------------\n",
      "\n",
      "\n",
      "------------------------------------------------\n",
      "Step 3: Query local database storing scraped text from phonedb.net\n",
      "Querying local DataBase ......\n",
      "Model Name Family:  iPhone 13\n"
     ]
    },
    {
     "name": "stderr",
     "output_type": "stream",
     "text": [
      "100%|██████████| 149/149 [00:01<00:00, 90.54it/s]\n",
      "100%|██████████| 149/149 [00:01<00:00, 98.34it/s]\n",
      "100%|██████████| 149/149 [00:01<00:00, 94.78it/s]\n"
     ]
    },
    {
     "name": "stdout",
     "output_type": "stream",
     "text": [
      "Model Name Family:  Xiaomi Redmi Note 9 Pro\n"
     ]
    },
    {
     "name": "stderr",
     "output_type": "stream",
     "text": [
      "100%|██████████| 148/148 [00:01<00:00, 87.64it/s]\n",
      "100%|██████████| 148/148 [00:01<00:00, 96.06it/s]\n",
      "100%|██████████| 148/148 [00:01<00:00, 95.81it/s]\n"
     ]
    },
    {
     "name": "stdout",
     "output_type": "stream",
     "text": [
      "Model Name Family:  Huawei P30 Pro\n"
     ]
    },
    {
     "name": "stderr",
     "output_type": "stream",
     "text": [
      "100%|██████████| 139/139 [00:01<00:00, 90.29it/s]\n",
      "100%|██████████| 139/139 [00:01<00:00, 97.47it/s]\n",
      "100%|██████████| 139/139 [00:01<00:00, 96.99it/s]\n"
     ]
    },
    {
     "name": "stdout",
     "output_type": "stream",
     "text": [
      "\n",
      "------------------------------------------------\n",
      "Step 4: Summarizing the text fetched using Alpaca base model\n",
      "................................................\n",
      "The summarized context information to be pipe into Alpaca model's prompt (Prompt Engineering)\n",
      "The Huawei P30 Pro Premium Edition Dual SIM TD-LTE CN VOG-AL00 128GB, Huawei P30 Pro Premium Edition Dual SIM TD-LTE CN VOG-AL10, and Huawei P30 Pro Premium Edition Dual SIM TD-LTE CN VOG-TL00 128GB are all variants of the Huawei P30 Pro. The Huawei P30 Pro Premium Edition Dual SIM TD-LTE CN VOG-AL00 128GB and Huawei P30 Pro Premium Edition Dual SIM TD-LTE CN VOG-AL10 are both full netcom variants of the Huawei P30 Pro, while the Huawei P30 Pro Premium Edition Dual SIM TD-LTE CN VOG-TL00 128GB is a top model of the Huawei P30 Pro. All three variants of the Huawei P30 Pro have 128 GB of storage, 8 GB of RAM, and a 19.5:9 dewdrop AMOLED screen. The Huawei P30 Pro Premium Edition Dual SIM TD-LTE CN VOG-AL00 128GB and Huawei P30 Pro Premium Edition Dual SIM TD-LTE CN VOG-AL10 are both top models of the Huawei P30 Pro, while the Huawei P30 Pro Premium Edition Dual SIM TD-LTE CN VOG-TL00 128GB is a top model of the Huawei P30 Pro. All three variants of the Huawei P30 Pro have 128 GB of storage, 8 GB of RAM, and a 19.5:9 dewdrop AMOLED screen.\n",
      "\n",
      "\n",
      "------------------------------------------------\n",
      "Step 5: Updating Alpaca's prompt with context info extracted from local database\n",
      "        And finally instruct the model to answer the original user question\n",
      "Back to the original question >>>>>> \n",
      "------------------------------------------------\n",
      "Question:\n",
      "  Can you list the battery life for the Apple iPhone 13, Xiaomi Redmi Note 9 Pro,and Huawei P30 Pro?\n",
      "------------------------------------------------\n",
      "\n",
      "\n",
      "Answer:\n",
      " The Apple iPhone 13 has a battery life of up to 18 hours. The Xiaomi Redmi Note 9 Pro has a battery life of up to 11 hours. The Huawei P30 Pro has a battery life of up to 19 hours.\n",
      "------------------------------------------------\n"
     ]
    },
    {
     "data": {
      "text/plain": [
       "'The Apple iPhone 13 has a battery life of up to 18 hours. The Xiaomi Redmi Note 9 Pro has a battery life of up to 11 hours. The Huawei P30 Pro has a battery life of up to 19 hours.'"
      ]
     },
     "execution_count": 8,
     "metadata": {},
     "output_type": "execute_result"
    }
   ],
   "source": [
    "alphot_qa_inference.inference(\"Can you list the battery life for the Apple iPhone 13, Xiaomi Redmi Note 9 Pro,\\\n",
    "and Huawei P30 Pro?\")"
   ]
  },
  {
   "cell_type": "code",
   "execution_count": null,
   "id": "10cad472-d8f6-455d-9341-3b779f5e8578",
   "metadata": {},
   "outputs": [],
   "source": []
  },
  {
   "cell_type": "code",
   "execution_count": null,
   "id": "584dcaa5-1385-4c42-8bcc-5e47fcc3f78d",
   "metadata": {},
   "outputs": [],
   "source": []
  },
  {
   "cell_type": "code",
   "execution_count": 9,
   "id": "ff4b2941-e26b-4e52-b6f2-574aab1d99cb",
   "metadata": {},
   "outputs": [
    {
     "name": "stdout",
     "output_type": "stream",
     "text": [
      "------------------------------------------------\n",
      "Step 1: Alpaca extract name tokens\n",
      "\n",
      ">>>>> Instruction:\n",
      " Ignore the input. Extract all phone model names from the input sentence.     Append and prepend '%%%' symbols to each phone model name.\n",
      "\n",
      ">>>>> Input:\n",
      " \"How do the camera capabilities of the Apple iPhone 12, Samsung Galaxy S21, and Xiaomi Mi 11 compare?\"\n",
      "\n",
      "\n",
      "Generating ......\n",
      "\n",
      "<<<<< Output:\n",
      " %%Apple iPhone 12%%,%%Samsung Galaxy S21%%,%%Xiaomi Mi 11%%\n",
      "\n",
      "------------------------------------------------\n",
      "Using regex to tokenize:\n",
      "['Samsung Galaxy S21', 'Xiaomi Mi 11', 'Apple iPhone 12']\n",
      "------------------------------------------------\n",
      "\n",
      "Step 2: Zero-shot BART classifier extract name keys\n",
      "\n",
      "Extracted Model Name:  Samsung Galaxy S21\n",
      "Extracted Model Name:  Xiaomi Mi 11\n",
      "Extracted Model Name:  iPhone 12\n",
      "------------------------------------------------\n",
      "\n",
      "\n",
      "------------------------------------------------\n",
      "Step 3: Query local database storing scraped text from phonedb.net\n",
      "Querying local DataBase ......\n",
      "Model Name Family:  Samsung Galaxy S21\n"
     ]
    },
    {
     "name": "stderr",
     "output_type": "stream",
     "text": [
      "100%|██████████| 166/166 [00:01<00:00, 93.72it/s]\n",
      "100%|██████████| 166/166 [00:01<00:00, 96.51it/s]\n",
      "100%|██████████| 173/173 [00:01<00:00, 97.19it/s]\n"
     ]
    },
    {
     "name": "stdout",
     "output_type": "stream",
     "text": [
      "Model Name Family:  iPhone 12\n"
     ]
    },
    {
     "name": "stderr",
     "output_type": "stream",
     "text": [
      "100%|██████████| 159/159 [00:01<00:00, 89.71it/s]\n",
      "100%|██████████| 159/159 [00:01<00:00, 97.53it/s]\n",
      "100%|██████████| 158/158 [00:01<00:00, 97.52it/s]\n"
     ]
    },
    {
     "name": "stdout",
     "output_type": "stream",
     "text": [
      "Model Name Family:  Xiaomi Mi 11\n"
     ]
    },
    {
     "name": "stderr",
     "output_type": "stream",
     "text": [
      "100%|██████████| 145/145 [00:01<00:00, 94.66it/s]\n",
      "100%|██████████| 145/145 [00:01<00:00, 94.92it/s]\n",
      "100%|██████████| 150/150 [00:01<00:00, 95.53it/s]\n"
     ]
    },
    {
     "name": "stdout",
     "output_type": "stream",
     "text": [
      "\n",
      "------------------------------------------------\n",
      "Step 4: Summarizing the text fetched using Alpaca base model\n",
      "................................................\n",
      "The summarized context information to be pipe into Alpaca model's prompt (Prompt Engineering)\n",
      "Xiaomi Mi 11 Youth 5G Premium Edition Dual SIM TD-LTE CN 256GB M2101K9C is a Chinese variant of Mi11 Lite 5G smartphone with 256 GB UFS 2.2 ROM, 8 GiB LP-DDR4X RAM 802.11ac Wi-Fi, Bluetooth 5.0, NFC, 4G VoLTE, 5G TDD-LTE, 256GB storage, 256GB ROM, 256GB UFS 2.2, 256GB UFS 2.2 ROM, 8GB LP-DDR4X RAM, 8GB LP-DDR4X RAM, 8GB LP-DDR4X RAM, 8GB LP-DDR4X RAM, 8GB LP-DDR4X RAM, 8GB LP-DDR4X RAM, 8GB LP-DDR4X RAM, 8GB LP-DDR4X RAM, 8GB LP-DDR4X RAM, 8GB LP-DDR4X RAM, 8GB LP-DDR4X RAM, 8GB LP-DDR4X RAM, 8GB LP-DDR4X RAM, 8GB LP-DDR4X RAM, 8GB LP-DDR4X RAM, 8GB LP-DDR4X RAM, 8GB LP-DDR4X RAM, 8GB LP-DDR4X RAM, 8GB LP-DDR4X RAM, 8GB LP-DDR4X RAM, 8GB LP-DDR4X RAM, 8GB LP-DDR4X RAM, 8GB LP-DDR4X RAM, 8GB LP-DDR4X RAM, 8GB LP-DDR4X RAM, 8GB LP-DDR4X RAM, 8GB LP-DDR4X RAM, 8GB LP-DDR4X RAM, 8GB LP-DDR4X RAM, 8GB LP-DDR4X RAM, 8GB LP-DDR4X RAM, 8GB LP-DDR4X RAM, 8GB LP-DDR4X RAM, 8GB LP-DDR4X RAM, 8GB LP-DDR4X RAM, 8GB LP-DDR4X RAM, 8GB LP-DDR4X RAM, 8GB LP-DDR4X RAM, 8GB LP-DDR4X RAM, 8GB LP-DDR4X RAM, 8GB LP-DDR4X RAM, 8GB LP-DDR4X RAM, 8GB LP-DDR4X RAM, 8GB LP-DDR4X RAM, 8GB LP-DDR4X RAM, 8GB LP-DDR4X RAM, 8\n",
      "\n",
      "\n",
      "------------------------------------------------\n",
      "Step 5: Updating Alpaca's prompt with context info extracted from local database\n",
      "        And finally instruct the model to answer the original user question\n",
      "Back to the original question >>>>>> \n",
      "------------------------------------------------\n",
      "Question:\n",
      "  \"How do the camera capabilities of the Apple iPhone 12, Samsung Galaxy S21, and Xiaomi Mi 11 compare?\"\n",
      "\n",
      "------------------------------------------------\n",
      "\n",
      "\n",
      "Answer:\n",
      " The camera capabilities of the Apple iPhone 12, Samsung Galaxy S21, and Xiaomi Mi 11 are similar. The iPhone 12 has a triple camera setup with a 12MP main camera, 12MP telephoto camera, and 12MP ultra-wide camera. The Samsung Galaxy S21 has a triple camera setup with a 48MP main camera, 8MP telephoto camera, and 8MP ultra-wide camera. The Xiaomi Mi 11 has a triple camera setup with a 48MP main camera, 12MP telephoto camera, and 12MP ultra-wide camera.\n",
      "------------------------------------------------\n"
     ]
    }
   ],
   "source": [
    "question = '''\\\n",
    "\"How do the camera capabilities of the Apple iPhone 12, Samsung Galaxy S21, and Xiaomi Mi 11 compare?\"\n",
    "'''\n",
    "answer = alphot_qa_inference.inference(question)"
   ]
  },
  {
   "cell_type": "code",
   "execution_count": null,
   "id": "ea6fbb5e-17e1-4b9d-83ea-8efd640fdecc",
   "metadata": {},
   "outputs": [],
   "source": []
  },
  {
   "cell_type": "code",
   "execution_count": null,
   "id": "a6ebb658-2268-49bb-9aca-7db4d85c34b2",
   "metadata": {},
   "outputs": [],
   "source": []
  },
  {
   "cell_type": "code",
   "execution_count": null,
   "id": "d26d9b23-ec29-47aa-b86c-c871f325ea88",
   "metadata": {},
   "outputs": [],
   "source": []
  },
  {
   "cell_type": "code",
   "execution_count": null,
   "id": "66e8922e-2086-4ad0-8947-551a6bbba70f",
   "metadata": {},
   "outputs": [],
   "source": []
  }
 ],
 "metadata": {
  "kernelspec": {
   "display_name": "Python 3 (ipykernel)",
   "language": "python",
   "name": "python3"
  },
  "language_info": {
   "codemirror_mode": {
    "name": "ipython",
    "version": 3
   },
   "file_extension": ".py",
   "mimetype": "text/x-python",
   "name": "python",
   "nbconvert_exporter": "python",
   "pygments_lexer": "ipython3",
   "version": "3.10.8"
  }
 },
 "nbformat": 4,
 "nbformat_minor": 5
}
