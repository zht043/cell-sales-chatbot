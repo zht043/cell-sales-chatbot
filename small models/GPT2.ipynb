{
 "cells": [
  {
   "cell_type": "code",
   "execution_count": 1,
   "id": "b02fcf6e-7641-4d1d-a871-e4131134f5f8",
   "metadata": {},
   "outputs": [
    {
     "data": {
      "text/plain": [
       "device(type='cuda')"
      ]
     },
     "execution_count": 1,
     "metadata": {},
     "output_type": "execute_result"
    }
   ],
   "source": [
    "import torch\n",
    "device = torch.device(\"cuda\" if torch.cuda.is_available() else \"cpu\")\n",
    "device"
   ]
  },
  {
   "cell_type": "code",
   "execution_count": 2,
   "id": "12ea3074-68cf-4a9b-938f-02774d4f2de7",
   "metadata": {},
   "outputs": [
    {
     "data": {
      "application/vnd.jupyter.widget-view+json": {
       "model_id": "c753e2ebe9fc4c7abafbff31502fe7a8",
       "version_major": 2,
       "version_minor": 0
      },
      "text/plain": [
       "Downloading (…)olve/main/vocab.json:   0%|          | 0.00/1.04M [00:00<?, ?B/s]"
      ]
     },
     "metadata": {},
     "output_type": "display_data"
    },
    {
     "data": {
      "application/vnd.jupyter.widget-view+json": {
       "model_id": "76ca9debbbeb49e19be72ae4c6dd4400",
       "version_major": 2,
       "version_minor": 0
      },
      "text/plain": [
       "Downloading (…)olve/main/merges.txt:   0%|          | 0.00/456k [00:00<?, ?B/s]"
      ]
     },
     "metadata": {},
     "output_type": "display_data"
    },
    {
     "data": {
      "application/vnd.jupyter.widget-view+json": {
       "model_id": "cc2f3c16468c4605a864f8b10fbc54c9",
       "version_major": 2,
       "version_minor": 0
      },
      "text/plain": [
       "Downloading (…)lve/main/config.json:   0%|          | 0.00/718 [00:00<?, ?B/s]"
      ]
     },
     "metadata": {},
     "output_type": "display_data"
    },
    {
     "data": {
      "application/vnd.jupyter.widget-view+json": {
       "model_id": "8767183c8dbb4831af57beb876ec6a1e",
       "version_major": 2,
       "version_minor": 0
      },
      "text/plain": [
       "Downloading pytorch_model.bin:   0%|          | 0.00/1.52G [00:00<?, ?B/s]"
      ]
     },
     "metadata": {},
     "output_type": "display_data"
    },
    {
     "data": {
      "application/vnd.jupyter.widget-view+json": {
       "model_id": "931483575abf4d3ea9c4e0c323f7c039",
       "version_major": 2,
       "version_minor": 0
      },
      "text/plain": [
       "Downloading (…)neration_config.json:   0%|          | 0.00/124 [00:00<?, ?B/s]"
      ]
     },
     "metadata": {},
     "output_type": "display_data"
    },
    {
     "data": {
      "text/plain": [
       "Embedding(50260, 1024)"
      ]
     },
     "execution_count": 2,
     "metadata": {},
     "output_type": "execute_result"
    }
   ],
   "source": [
    "from transformers import AutoConfig\n",
    "from transformers import GPT2LMHeadModel, GPT2Tokenizer\n",
    "# load pre-trained gpt2-medium weights\n",
    "tokenizer = GPT2Tokenizer.from_pretrained('gpt2-medium')\n",
    "model = GPT2LMHeadModel.from_pretrained('gpt2-medium')\n",
    "# add our own special token to tokenizer and model\n",
    "bos = '<|endoftext|>'\n",
    "eos = '<|EOS|>'\n",
    "body = '<|body|>'\n",
    "special_tokens_dict = {'eos_token': eos, 'bos_token': bos, 'pad_token': '<pad>',\n",
    "                       'sep_token': body}\n",
    "num_added_toks = tokenizer.add_special_tokens(special_tokens_dict)\n",
    "config = AutoConfig.from_pretrained('gpt2-medium', \n",
    "                                    bos_token_id=tokenizer.bos_token_id,\n",
    "                                    eos_token_id=tokenizer.eos_token_id,\n",
    "                                    pad_token_id=tokenizer.pad_token_id,\n",
    "                                    sep_token_id=tokenizer.sep_token_id,\n",
    "                                    output_hidden_states=False)\n",
    "model = GPT2LMHeadModel.from_pretrained('gpt2-medium', config=config)\n",
    "model.resize_token_embeddings(len(tokenizer))"
   ]
  },
  {
   "cell_type": "code",
   "execution_count": 3,
   "id": "39c1dbec-edb1-472a-903f-664cd77660b5",
   "metadata": {},
   "outputs": [
    {
     "data": {
      "text/html": [
       "<div>\n",
       "<style scoped>\n",
       "    .dataframe tbody tr th:only-of-type {\n",
       "        vertical-align: middle;\n",
       "    }\n",
       "\n",
       "    .dataframe tbody tr th {\n",
       "        vertical-align: top;\n",
       "    }\n",
       "\n",
       "    .dataframe thead th {\n",
       "        text-align: right;\n",
       "    }\n",
       "</style>\n",
       "<table border=\"1\" class=\"dataframe\">\n",
       "  <thead>\n",
       "    <tr style=\"text-align: right;\">\n",
       "      <th></th>\n",
       "      <th>Q</th>\n",
       "      <th>A</th>\n",
       "    </tr>\n",
       "  </thead>\n",
       "  <tbody>\n",
       "    <tr>\n",
       "      <th>0</th>\n",
       "      <td>How can I unlock my iPhone if I forgot my pass...</td>\n",
       "      <td>You can unlock your iPhone by following the st...</td>\n",
       "    </tr>\n",
       "    <tr>\n",
       "      <th>1</th>\n",
       "      <td>What should I do if my iPhone is not charging?</td>\n",
       "      <td>If your iPhone is not charging, try using a di...</td>\n",
       "    </tr>\n",
       "    <tr>\n",
       "      <th>2</th>\n",
       "      <td>Can I get help with using a specific app from ...</td>\n",
       "      <td>Yes, Apple customer support can offer assistan...</td>\n",
       "    </tr>\n",
       "    <tr>\n",
       "      <th>3</th>\n",
       "      <td>How can I download the latest software updates...</td>\n",
       "      <td>You can download the latest software updates b...</td>\n",
       "    </tr>\n",
       "    <tr>\n",
       "      <th>4</th>\n",
       "      <td>Can I get a refund for an app or subscription ...</td>\n",
       "      <td>Yes, you may be eligible for a refund for cert...</td>\n",
       "    </tr>\n",
       "    <tr>\n",
       "      <th>...</th>\n",
       "      <td>...</td>\n",
       "      <td>...</td>\n",
       "    </tr>\n",
       "    <tr>\n",
       "      <th>573</th>\n",
       "      <td>Okay, I'll do that now.</td>\n",
       "      <td>Once your phone is updated, download a reputab...</td>\n",
       "    </tr>\n",
       "    <tr>\n",
       "      <th>574</th>\n",
       "      <td>Hi, I accidentally deleted some important phot...</td>\n",
       "      <td>Yes, there is! Do you have a backup of your ph...</td>\n",
       "    </tr>\n",
       "    <tr>\n",
       "      <th>575</th>\n",
       "      <td>Yes, I do.</td>\n",
       "      <td>Great, you can restore your phone from the bac...</td>\n",
       "    </tr>\n",
       "    <tr>\n",
       "      <th>576</th>\n",
       "      <td>Hi, my iPhone won't turn on. What should I do?</td>\n",
       "      <td>I'm sorry to hear that! Let's try force restar...</td>\n",
       "    </tr>\n",
       "    <tr>\n",
       "      <th>577</th>\n",
       "      <td>Okay, I did that, but it still won't turn on.</td>\n",
       "      <td>Hmm, let's try charging your phone for a while...</td>\n",
       "    </tr>\n",
       "  </tbody>\n",
       "</table>\n",
       "<p>578 rows × 2 columns</p>\n",
       "</div>"
      ],
      "text/plain": [
       "                                                     Q   \n",
       "0    How can I unlock my iPhone if I forgot my pass...  \\\n",
       "1      What should I do if my iPhone is not charging?    \n",
       "2    Can I get help with using a specific app from ...   \n",
       "3    How can I download the latest software updates...   \n",
       "4    Can I get a refund for an app or subscription ...   \n",
       "..                                                 ...   \n",
       "573                           Okay, I'll do that now.    \n",
       "574  Hi, I accidentally deleted some important phot...   \n",
       "575                                        Yes, I do.    \n",
       "576    Hi, my iPhone won't turn on. What should I do?    \n",
       "577     Okay, I did that, but it still won't turn on.    \n",
       "\n",
       "                                                     A  \n",
       "0    You can unlock your iPhone by following the st...  \n",
       "1    If your iPhone is not charging, try using a di...  \n",
       "2    Yes, Apple customer support can offer assistan...  \n",
       "3    You can download the latest software updates b...  \n",
       "4    Yes, you may be eligible for a refund for cert...  \n",
       "..                                                 ...  \n",
       "573  Once your phone is updated, download a reputab...  \n",
       "574  Yes, there is! Do you have a backup of your ph...  \n",
       "575  Great, you can restore your phone from the bac...  \n",
       "576  I'm sorry to hear that! Let's try force restar...  \n",
       "577  Hmm, let's try charging your phone for a while...  \n",
       "\n",
       "[578 rows x 2 columns]"
      ]
     },
     "execution_count": 3,
     "metadata": {},
     "output_type": "execute_result"
    }
   ],
   "source": [
    "#load dataset\n",
    "import pandas as pd\n",
    "df = pd.read_csv('QA.csv')\n",
    "df"
   ]
  },
  {
   "cell_type": "code",
   "execution_count": 4,
   "id": "463f0373-9e0a-4802-968a-a82560b388b2",
   "metadata": {},
   "outputs": [
    {
     "data": {
      "text/html": [
       "<div>\n",
       "<style scoped>\n",
       "    .dataframe tbody tr th:only-of-type {\n",
       "        vertical-align: middle;\n",
       "    }\n",
       "\n",
       "    .dataframe tbody tr th {\n",
       "        vertical-align: top;\n",
       "    }\n",
       "\n",
       "    .dataframe thead th {\n",
       "        text-align: right;\n",
       "    }\n",
       "</style>\n",
       "<table border=\"1\" class=\"dataframe\">\n",
       "  <thead>\n",
       "    <tr style=\"text-align: right;\">\n",
       "      <th></th>\n",
       "      <th>Q</th>\n",
       "      <th>A</th>\n",
       "      <th>text</th>\n",
       "    </tr>\n",
       "  </thead>\n",
       "  <tbody>\n",
       "    <tr>\n",
       "      <th>0</th>\n",
       "      <td>How can I unlock my iPhone if I forgot my pass...</td>\n",
       "      <td>You can unlock your iPhone by following the st...</td>\n",
       "      <td>&lt;|endoftext|&gt; How can I unlock my iPhone if I ...</td>\n",
       "    </tr>\n",
       "    <tr>\n",
       "      <th>1</th>\n",
       "      <td>What should I do if my iPhone is not charging?</td>\n",
       "      <td>If your iPhone is not charging, try using a di...</td>\n",
       "      <td>&lt;|endoftext|&gt; What should I do if my iPhone is...</td>\n",
       "    </tr>\n",
       "    <tr>\n",
       "      <th>2</th>\n",
       "      <td>Can I get help with using a specific app from ...</td>\n",
       "      <td>Yes, Apple customer support can offer assistan...</td>\n",
       "      <td>&lt;|endoftext|&gt; Can I get help with using a spec...</td>\n",
       "    </tr>\n",
       "    <tr>\n",
       "      <th>3</th>\n",
       "      <td>How can I download the latest software updates...</td>\n",
       "      <td>You can download the latest software updates b...</td>\n",
       "      <td>&lt;|endoftext|&gt; How can I download the latest so...</td>\n",
       "    </tr>\n",
       "    <tr>\n",
       "      <th>4</th>\n",
       "      <td>Can I get a refund for an app or subscription ...</td>\n",
       "      <td>Yes, you may be eligible for a refund for cert...</td>\n",
       "      <td>&lt;|endoftext|&gt; Can I get a refund for an app or...</td>\n",
       "    </tr>\n",
       "    <tr>\n",
       "      <th>...</th>\n",
       "      <td>...</td>\n",
       "      <td>...</td>\n",
       "      <td>...</td>\n",
       "    </tr>\n",
       "    <tr>\n",
       "      <th>573</th>\n",
       "      <td>Okay, I'll do that now.</td>\n",
       "      <td>Once your phone is updated, download a reputab...</td>\n",
       "      <td>&lt;|endoftext|&gt; Okay, I'll do that now.  &lt;|body|...</td>\n",
       "    </tr>\n",
       "    <tr>\n",
       "      <th>574</th>\n",
       "      <td>Hi, I accidentally deleted some important phot...</td>\n",
       "      <td>Yes, there is! Do you have a backup of your ph...</td>\n",
       "      <td>&lt;|endoftext|&gt; Hi, I accidentally deleted some ...</td>\n",
       "    </tr>\n",
       "    <tr>\n",
       "      <th>575</th>\n",
       "      <td>Yes, I do.</td>\n",
       "      <td>Great, you can restore your phone from the bac...</td>\n",
       "      <td>&lt;|endoftext|&gt; Yes, I do.  &lt;|body|&gt; Great, you ...</td>\n",
       "    </tr>\n",
       "    <tr>\n",
       "      <th>576</th>\n",
       "      <td>Hi, my iPhone won't turn on. What should I do?</td>\n",
       "      <td>I'm sorry to hear that! Let's try force restar...</td>\n",
       "      <td>&lt;|endoftext|&gt; Hi, my iPhone won't turn on. Wha...</td>\n",
       "    </tr>\n",
       "    <tr>\n",
       "      <th>577</th>\n",
       "      <td>Okay, I did that, but it still won't turn on.</td>\n",
       "      <td>Hmm, let's try charging your phone for a while...</td>\n",
       "      <td>&lt;|endoftext|&gt; Okay, I did that, but it still w...</td>\n",
       "    </tr>\n",
       "  </tbody>\n",
       "</table>\n",
       "<p>578 rows × 3 columns</p>\n",
       "</div>"
      ],
      "text/plain": [
       "                                                     Q   \n",
       "0    How can I unlock my iPhone if I forgot my pass...  \\\n",
       "1      What should I do if my iPhone is not charging?    \n",
       "2    Can I get help with using a specific app from ...   \n",
       "3    How can I download the latest software updates...   \n",
       "4    Can I get a refund for an app or subscription ...   \n",
       "..                                                 ...   \n",
       "573                           Okay, I'll do that now.    \n",
       "574  Hi, I accidentally deleted some important phot...   \n",
       "575                                        Yes, I do.    \n",
       "576    Hi, my iPhone won't turn on. What should I do?    \n",
       "577     Okay, I did that, but it still won't turn on.    \n",
       "\n",
       "                                                     A   \n",
       "0    You can unlock your iPhone by following the st...  \\\n",
       "1    If your iPhone is not charging, try using a di...   \n",
       "2    Yes, Apple customer support can offer assistan...   \n",
       "3    You can download the latest software updates b...   \n",
       "4    Yes, you may be eligible for a refund for cert...   \n",
       "..                                                 ...   \n",
       "573  Once your phone is updated, download a reputab...   \n",
       "574  Yes, there is! Do you have a backup of your ph...   \n",
       "575  Great, you can restore your phone from the bac...   \n",
       "576  I'm sorry to hear that! Let's try force restar...   \n",
       "577  Hmm, let's try charging your phone for a while...   \n",
       "\n",
       "                                                  text  \n",
       "0    <|endoftext|> How can I unlock my iPhone if I ...  \n",
       "1    <|endoftext|> What should I do if my iPhone is...  \n",
       "2    <|endoftext|> Can I get help with using a spec...  \n",
       "3    <|endoftext|> How can I download the latest so...  \n",
       "4    <|endoftext|> Can I get a refund for an app or...  \n",
       "..                                                 ...  \n",
       "573  <|endoftext|> Okay, I'll do that now.  <|body|...  \n",
       "574  <|endoftext|> Hi, I accidentally deleted some ...  \n",
       "575  <|endoftext|> Yes, I do.  <|body|> Great, you ...  \n",
       "576  <|endoftext|> Hi, my iPhone won't turn on. Wha...  \n",
       "577  <|endoftext|> Okay, I did that, but it still w...  \n",
       "\n",
       "[578 rows x 3 columns]"
      ]
     },
     "execution_count": 4,
     "metadata": {},
     "output_type": "execute_result"
    }
   ],
   "source": [
    "# add start token, sep token and end token to join question text and answer text\n",
    "prepare_text = lambda x: ' '.join([bos, x['Q'], body, x['A'], eos])\n",
    "df['text'] = df.apply(prepare_text, axis=1)\n",
    "df"
   ]
  },
  {
   "cell_type": "code",
   "execution_count": 5,
   "id": "e86a30f6-d9a6-49bc-a967-508ba8942448",
   "metadata": {},
   "outputs": [
    {
     "data": {
      "application/vnd.jupyter.widget-view+json": {
       "model_id": "",
       "version_major": 2,
       "version_minor": 0
      },
      "text/plain": [
       "Map:   0%|          | 0/520 [00:00<?, ? examples/s]"
      ]
     },
     "metadata": {},
     "output_type": "display_data"
    },
    {
     "data": {
      "application/vnd.jupyter.widget-view+json": {
       "model_id": "",
       "version_major": 2,
       "version_minor": 0
      },
      "text/plain": [
       "Map:   0%|          | 0/58 [00:00<?, ? examples/s]"
      ]
     },
     "metadata": {},
     "output_type": "display_data"
    }
   ],
   "source": [
    "# fine tune GPT2 model\n",
    "from sklearn.model_selection import train_test_split\n",
    "from datasets import Dataset\n",
    "from transformers import TrainingArguments, DataCollatorForLanguageModeling, Trainer\n",
    "df_train, df_val = train_test_split(df, train_size = 0.9, random_state = 77)\n",
    "train_dataset = Dataset.from_pandas(df_train[['text']])\n",
    "val_dataset = Dataset.from_pandas(df_val[['text']])\n",
    "def tokenize_function(examples):\n",
    "        return tokenizer(examples['text'], padding=True)\n",
    "tokenized_train_dataset = train_dataset.map(\n",
    "    tokenize_function,\n",
    "    batched=True,\n",
    "    num_proc=1\n",
    ")\n",
    "tokenized_val_dataset = val_dataset.map(\n",
    "    tokenize_function,\n",
    "    batched=True,\n",
    "    num_proc=1\n",
    ")\n",
    "\n",
    "model_articles_path = './GPT2'\n",
    "training_args = TrainingArguments(\n",
    "    output_dir=model_articles_path,          \n",
    "    num_train_epochs=50,              \n",
    "    per_device_train_batch_size=8,  \n",
    "    per_device_eval_batch_size=8,   \n",
    "    warmup_steps=200,                \n",
    "    weight_decay=0.01,              \n",
    "    logging_dir=model_articles_path,         \n",
    "    prediction_loss_only=True,\n",
    "    save_steps=10000,\n",
    "    evaluation_strategy=\"steps\",\n",
    "    eval_steps=500\n",
    ")\n",
    "data_collator = DataCollatorForLanguageModeling(\n",
    "        tokenizer=tokenizer,\n",
    "        mlm=False\n",
    "    )\n",
    "trainer = Trainer(\n",
    "    model=model.to(device),                        \n",
    "    args=training_args,                  \n",
    "    data_collator=data_collator,\n",
    "    train_dataset=tokenized_train_dataset,         \n",
    "    eval_dataset=tokenized_val_dataset,           \n",
    "    \n",
    ")"
   ]
  },
  {
   "cell_type": "code",
   "execution_count": 6,
   "id": "3292fe34-0f75-4992-b045-4826d86d7ed2",
   "metadata": {},
   "outputs": [
    {
     "name": "stderr",
     "output_type": "stream",
     "text": [
      "/userhome/cs2/ricky121/anaconda3/envs/pytorch/lib/python3.8/site-packages/transformers/optimization.py:391: FutureWarning: This implementation of AdamW is deprecated and will be removed in a future version. Use the PyTorch implementation torch.optim.AdamW instead, or set `no_deprecation_warning=True` to disable this warning\n",
      "  warnings.warn(\n"
     ]
    },
    {
     "data": {
      "text/html": [
       "\n",
       "    <div>\n",
       "      \n",
       "      <progress value='3250' max='3250' style='width:300px; height:20px; vertical-align: middle;'></progress>\n",
       "      [3250/3250 15:44, Epoch 50/50]\n",
       "    </div>\n",
       "    <table border=\"1\" class=\"dataframe\">\n",
       "  <thead>\n",
       " <tr style=\"text-align: left;\">\n",
       "      <th>Step</th>\n",
       "      <th>Training Loss</th>\n",
       "      <th>Validation Loss</th>\n",
       "    </tr>\n",
       "  </thead>\n",
       "  <tbody>\n",
       "    <tr>\n",
       "      <td>500</td>\n",
       "      <td>4.174100</td>\n",
       "      <td>1.048348</td>\n",
       "    </tr>\n",
       "    <tr>\n",
       "      <td>1000</td>\n",
       "      <td>0.254600</td>\n",
       "      <td>1.349135</td>\n",
       "    </tr>\n",
       "    <tr>\n",
       "      <td>1500</td>\n",
       "      <td>0.177100</td>\n",
       "      <td>1.385700</td>\n",
       "    </tr>\n",
       "    <tr>\n",
       "      <td>2000</td>\n",
       "      <td>0.150300</td>\n",
       "      <td>1.500523</td>\n",
       "    </tr>\n",
       "    <tr>\n",
       "      <td>2500</td>\n",
       "      <td>0.136900</td>\n",
       "      <td>1.554368</td>\n",
       "    </tr>\n",
       "    <tr>\n",
       "      <td>3000</td>\n",
       "      <td>0.129700</td>\n",
       "      <td>1.605670</td>\n",
       "    </tr>\n",
       "  </tbody>\n",
       "</table><p>"
      ],
      "text/plain": [
       "<IPython.core.display.HTML object>"
      ]
     },
     "metadata": {},
     "output_type": "display_data"
    },
    {
     "data": {
      "text/plain": [
       "TrainOutput(global_step=3250, training_loss=0.7823011991060698, metrics={'train_runtime': 945.8085, 'train_samples_per_second': 27.49, 'train_steps_per_second': 3.436, 'total_flos': 4999021707264000.0, 'train_loss': 0.7823011991060698, 'epoch': 50.0})"
      ]
     },
     "execution_count": 6,
     "metadata": {},
     "output_type": "execute_result"
    }
   ],
   "source": [
    "trainer.train()"
   ]
  },
  {
   "cell_type": "code",
   "execution_count": 7,
   "id": "3ee3a93f-21ad-4231-b8f8-1e306195da2a",
   "metadata": {},
   "outputs": [
    {
     "data": {
      "text/plain": [
       "('./GPT2/tokenizer_config.json',\n",
       " './GPT2/special_tokens_map.json',\n",
       " './GPT2/vocab.json',\n",
       " './GPT2/merges.txt',\n",
       " './GPT2/added_tokens.json')"
      ]
     },
     "execution_count": 7,
     "metadata": {},
     "output_type": "execute_result"
    }
   ],
   "source": [
    "trainer.save_model()\n",
    "tokenizer.save_pretrained(model_articles_path)"
   ]
  },
  {
   "cell_type": "code",
   "execution_count": 15,
   "id": "547d569c-4227-4378-a12c-8c609f023e23",
   "metadata": {},
   "outputs": [],
   "source": [
    "def generate_n_text_samples(model, tokenizer, input_text):\n",
    "    text_ids = tokenizer(input_text, return_tensors = 'pt')\n",
    "    text_ids = text_ids\n",
    "    model = model\n",
    "    # use model.generate to generate the responses\n",
    "    generated_text_samples = model.generate(\n",
    "        **text_ids, \n",
    "        max_length= 50,  \n",
    "        num_return_sequences= 1,\n",
    "        no_repeat_ngram_size= 2,\n",
    "        repetition_penalty= 1.5,\n",
    "        top_p= 0.92,\n",
    "        temperature= .85,\n",
    "        do_sample= True,\n",
    "        top_k= 125,\n",
    "        early_stopping= True\n",
    "    )\n",
    "    #decode the response from vocab index\n",
    "    for t in generated_text_samples:\n",
    "        text = tokenizer.decode(t, skip_special_tokens=True)\n",
    "        return text\n"
   ]
  },
  {
   "cell_type": "code",
   "execution_count": 16,
   "id": "e37ece22-ede6-4367-88e2-d98b8eb0e0b3",
   "metadata": {},
   "outputs": [
    {
     "name": "stdout",
     "output_type": "stream",
     "text": [
      "You may be able to use iTunes or iCloud, depending on your device's brand and model.\n"
     ]
    }
   ],
   "source": [
    "model_articles_path = './GPT2'\n",
    "new_model = GPT2LMHeadModel.from_pretrained(model_articles_path)\n",
    "new_tokenizer = GPT2Tokenizer.from_pretrained(model_articles_path)\n",
    "bos = new_tokenizer.bos_token\n",
    "eos = new_tokenizer.eos_token\n",
    "sep = new_tokenizer.sep_token\n",
    "q = 'How can I unlock my iPhone if I forgot my passcode?'\n",
    "q_new = ' '.join([bos, q,  sep])\n",
    "content = generate_n_text_samples(new_model, new_tokenizer, q_new)[len(q)+1:]\n",
    "print(content)"
   ]
  },
  {
   "cell_type": "code",
   "execution_count": 18,
   "id": "6e65dd17-bb46-4c3d-a3b6-a9746ccb225b",
   "metadata": {},
   "outputs": [
    {
     "name": "stdout",
     "output_type": "stream",
     "text": [
      "Chatbot: Hello, how can I help you?\n"
     ]
    },
    {
     "name": "stdin",
     "output_type": "stream",
     "text": [
      "User: How can I troubleshoot issues with my Apple Watch not charging?\n"
     ]
    },
    {
     "name": "stdout",
     "output_type": "stream",
     "text": [
      "Chatbot:You may need to try resetting the device or checking for software updates.\n"
     ]
    },
    {
     "name": "stdin",
     "output_type": "stream",
     "text": [
      "User: Can I get help with setting up and using the Wallet app on my iPhone or iPad?\n"
     ]
    },
    {
     "name": "stdout",
     "output_type": "stream",
     "text": [
      "Chatbot:Yes, Apple customer support can provide assistance in settingsupandusingtheWalletappon youriPhoneoripad to store all of its data.\n"
     ]
    },
    {
     "name": "stdin",
     "output_type": "stream",
     "text": [
      "User: How can I troubleshoot issues with my iPhone not charging or charging slowly?\n"
     ]
    },
    {
     "name": "stdout",
     "output_type": "stream",
     "text": [
      "Chatbot:You may need to try a different charger and cable, check the case of your device for any dirt that might be obstructing it, as well.\n"
     ]
    },
    {
     "name": "stdin",
     "output_type": "stream",
     "text": [
      "User: How can I troubleshoot issues with my Apple Watch not updating or installing software?\n"
     ]
    },
    {
     "name": "stdout",
     "output_type": "stream",
     "text": [
      "Chatbot:You may be able to check your settings and storage by going through the \"Settings\" app onyour iPhone, selecting iCloud from there.\n"
     ]
    },
    {
     "name": "stdin",
     "output_type": "stream",
     "text": [
      "User: How can I troubleshoot issues with my Mac computer not playing sound or having audio problems?\n"
     ]
    },
    {
     "name": "stdout",
     "output_type": "stream",
     "text": [
      "Chatbot:You may be able to try resetting the volume and settings on your Apple TV, checking for software updates available through that provider's website.\n"
     ]
    },
    {
     "name": "stdin",
     "output_type": "stream",
     "text": [
      "User: How can I troubleshoot issues with my Mac computer not playing sound or having audio problems?\n"
     ]
    },
    {
     "name": "stdout",
     "output_type": "stream",
     "text": [
      "Chatbot:You may be able to try resetting the volume and settings on your Apple TV, checking for any software updates available through its website, as well\n"
     ]
    },
    {
     "name": "stdin",
     "output_type": "stream",
     "text": [
      "User: How can I troubleshoot issues with my Mac computer not playing sound or having audio problems?\n"
     ]
    },
    {
     "name": "stdout",
     "output_type": "stream",
     "text": [
      "Chatbot:You may be able to try resetting the PRAM and SMC, checking for any hardware damage. You also might need a different PROM\n"
     ]
    },
    {
     "name": "stdin",
     "output_type": "stream",
     "text": [
      "User: Can I get help with setting up and using the Safari browser on my Mac computer or iPhone/iPad?\n"
     ]
    },
    {
     "name": "stdout",
     "output_type": "stream",
     "text": [
      "Chatbot:Yes, Apple customer support can provide assistance accessing various features of your macOS operating system, such as updating software sources.\n"
     ]
    },
    {
     "name": "stdin",
     "output_type": "stream",
     "text": [
      "User: Can I get help with setting up and using the Safari browser on my Mac computer or iPhone/iPad?\n"
     ]
    },
    {
     "name": "stdout",
     "output_type": "stream",
     "text": [
      "Chatbot:Yes, Apple customer support can provide assistance in settingsupandusingthesafaribrowseron yourmaccomputeroriphone/#setting\n"
     ]
    },
    {
     "name": "stdin",
     "output_type": "stream",
     "text": [
      "User: Can I get help with setting up and using the Messages app on my Mac computer or iPhone?\n"
     ]
    },
    {
     "name": "stdout",
     "output_type": "stream",
     "text": [
      "Chatbot:Yes, Apple customer support can provide assistance through settings & messaging apps.\n"
     ]
    },
    {
     "name": "stdin",
     "output_type": "stream",
     "text": [
      "User: How can I troubleshoot issues with my Mac computer not playing or recognizing my DVDs or CDs?\n"
     ]
    },
    {
     "name": "stdout",
     "output_type": "stream",
     "text": [
      "Chatbot:You may be able to try following the steps outlined onthe Apple support website, such as checking them for updates and cleaning.\n"
     ]
    },
    {
     "name": "stdin",
     "output_type": "stream",
     "text": [
      "User: Can I get help with setting up and using the Siri feature on my Mac computer or iPhone?\n"
     ]
    },
    {
     "name": "stdout",
     "output_type": "stream",
     "text": [
      "Chatbot:Yes, Apple customer support can provide assistance in settingsupandusingtheSiriFeatureOnYourMacComputerOriPhone to use voice commands & control\n"
     ]
    },
    {
     "name": "stdin",
     "output_type": "stream",
     "text": [
      "User: How can I troubleshoot issues with my iPhone camera not working or taking blurry photos?\n"
     ]
    },
    {
     "name": "stdout",
     "output_type": "stream",
     "text": [
      "Chatbot:You may need to try resetting your device, checking for software updates and cleaning the lens.\n"
     ]
    },
    {
     "name": "stdin",
     "output_type": "stream",
     "text": [
      "User: How can I troubleshoot issues with my iPad not charging or turning on?\n"
     ]
    },
    {
     "name": "stdout",
     "output_type": "stream",
     "text": [
      "Chatbot:You may be able to try resetting the device by holding down both power and home buttons simultaneously until Apple Music app appears.\n"
     ]
    },
    {
     "name": "stdin",
     "output_type": "stream",
     "text": [
      "User: How can I troubleshoot issues with my iPad not charging or turning on?\n"
     ]
    },
    {
     "name": "stdout",
     "output_type": "stream",
     "text": [
      "Chatbot:You may need to try a different power source, connect it properly and then erase the data.\n"
     ]
    },
    {
     "name": "stdin",
     "output_type": "stream",
     "text": [
      "User: How can I troubleshoot issues with my iPad not charging or turning on?\n"
     ]
    },
    {
     "name": "stdout",
     "output_type": "stream",
     "text": [
      "Chatbot:You may be able to try resetting the device by holding down and power button for 15 seconds at a time.\n"
     ]
    },
    {
     "name": "stdin",
     "output_type": "stream",
     "text": [
      "User: exit\n"
     ]
    }
   ],
   "source": [
    "print(\"Chatbot: Hello, how can I help you?\")\n",
    "q = input(\"User:\")\n",
    "while q != \"exit\":\n",
    "    # add start token in front of user input and sep token at the end of user input\n",
    "    q_new = ' '.join([bos, q,  sep])\n",
    "    #start generating responses\n",
    "    content = generate_n_text_samples(new_model, new_tokenizer, q_new)\n",
    "    content = content[len(q)+1:]\n",
    "    print(f\"Chatbot:{content}\")\n",
    "    q = input(\"User:\")"
   ]
  },
  {
   "cell_type": "code",
   "execution_count": null,
   "id": "bfc6e777-8579-4231-829d-682f53b39f6b",
   "metadata": {},
   "outputs": [],
   "source": []
  },
  {
   "cell_type": "code",
   "execution_count": null,
   "id": "e6a491c4-1a76-4d13-ab2c-48c5e2e49a12",
   "metadata": {},
   "outputs": [],
   "source": []
  }
 ],
 "metadata": {
  "kernelspec": {
   "display_name": "Python 3",
   "language": "python",
   "name": "python3"
  },
  "language_info": {
   "codemirror_mode": {
    "name": "ipython",
    "version": 3
   },
   "file_extension": ".py",
   "mimetype": "text/x-python",
   "name": "python",
   "nbconvert_exporter": "python",
   "pygments_lexer": "ipython3",
   "version": "3.7.16"
  }
 },
 "nbformat": 4,
 "nbformat_minor": 5
}
